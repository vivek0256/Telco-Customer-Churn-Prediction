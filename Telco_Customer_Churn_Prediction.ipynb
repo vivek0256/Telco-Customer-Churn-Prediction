{
  "cells": [
    {
      "cell_type": "markdown",
      "id": "af3e9fb0",
      "metadata": {
        "id": "af3e9fb0"
      },
      "source": [
        "# Telco Customer Churn Prediction"
      ]
    },
    {
      "cell_type": "markdown",
      "source": [
        "![Running-4-the-Exit-2-844x422.webp](data:image/webp;base64,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)"
      ],
      "metadata": {
        "id": "C6jbi6bYBe9r"
      },
      "id": "C6jbi6bYBe9r"
    },
    {
      "cell_type": "markdown",
      "id": "f5b7c407",
      "metadata": {
        "id": "f5b7c407"
      },
      "source": [
        "## Problem Statement"
      ]
    },
    {
      "cell_type": "markdown",
      "id": "7e341084",
      "metadata": {
        "id": "7e341084"
      },
      "source": [
        "### Introduction"
      ]
    },
    {
      "cell_type": "markdown",
      "id": "ab0a023d",
      "metadata": {
        "id": "ab0a023d"
      },
      "source": [
        "#### What is Customer Churn?\n",
        "Customer churn is the percentage of customers that stopped using company's product or service during a certain time frame. Customer churn is one of the most important metrics for a growing business to evaluate as it is much less expensive to retain existing customers than it is to acquire new customers. Customers in the telecom industry can choose from a variety of service providers and actively switch from one to the next. The telecommunications business has an annual churn rate of 15-25 percent in this highly competitive market.\n",
        "\n",
        "Customer churn is extremley costly for companies. Based on a churn rate just under two percent for top companies, one source estimates carriers lose $65 million per month from churn. To reduce customer churn, telecom companies should predict which customers are highly prone to churn.\n",
        "\n",
        "Individualized customer retention is demanding because most companies have a large number of customers and cannot afford to devote much time to each of them. The costs would be too great, outweighing the additional revenue. However, if a corporation could forecast which customers are likely to leave ahead of time, it could concentrate customer retention efforts only on these \"high risk\" clients."
      ]
    },
    {
      "cell_type": "markdown",
      "id": "4d025210",
      "metadata": {
        "id": "4d025210"
      },
      "source": [
        "###  Obejctives"
      ]
    },
    {
      "cell_type": "markdown",
      "id": "bee85c19",
      "metadata": {
        "id": "bee85c19"
      },
      "source": [
        "In this projects below questions will be answered:\n",
        "\n",
        "What's the % of Customers Churn and customers that keep in with the active services?\n",
        "\n",
        "Is there any patterns in Customers Churn based on the gender?\n",
        "\n",
        "Is there any patterns/preference in Customers Churn based on the type of service provided?\n",
        "\n",
        "What's the most profitable service types?\n",
        "\n",
        "Which features and services are most profitable?\n",
        "\n",
        "Which features have the most impact on predicting customers churn?\n",
        "\n",
        "Which model is the best for predicting churn?\n"
      ]
    },
    {
      "cell_type": "markdown",
      "id": "a28827e0",
      "metadata": {
        "id": "a28827e0"
      },
      "source": [
        "### Dataset Features"
      ]
    },
    {
      "cell_type": "markdown",
      "id": "8d02a356",
      "metadata": {
        "id": "8d02a356"
      },
      "source": [
        "Customer ID: A unique ID that identifies each customer.\n",
        "\n",
        "gender: Whether the customer is a male or a female\n",
        "\n",
        "SeniorCitizen: Whether the customer is a senior citizen or not (1, 0)\n",
        "\n",
        "Partner: Whether the customer has a partner or not (Yes, No)\n",
        "\n",
        "Dependents: Whether the customer has dependents or not (Yes, No)\n",
        "\n",
        "PhoneService: Whether the customer has a phone service or not (Yes, No)\n",
        "\n",
        "MultipleLines: Whether the customer has multiple lines or not (Yes, No, No phone service)\n",
        "\n",
        "InternetService: Customer’s internet service provider (DSL, Fiber optic, No)\n",
        "\n",
        "OnlineSecurity: Whether the customer has online security or not (Yes, No, No internet service)\n",
        "\n",
        "OnlineBackup: Whether the customer has online backup or not (Yes, No, No internet service)\n",
        "\n",
        "DeviceProtection: Whether the customer has device protection or not (Yes, No, No internet service)\n",
        "\n",
        "TechSupport: Whether the customer has tech support or not (Yes, No, No internet service)\n",
        "\n",
        "StreamingTV: Whether the customer has streaming TV or not (Yes, No, No internet service)\n",
        "\n",
        "StreamingMovies: Whether the customer has streaming movies or not (Yes, No, No internet service)\n",
        "\n",
        "tenure: Number of months the customer has stayed with the company\n",
        "\n",
        "Contract: The contract term of the customer (Month-to-month, One year, Two year)\n",
        "\n",
        "PaperlessBilling: Whether the customer has paperless billing or not (Yes, No)\n",
        "\n",
        "PaymentMethod: The customer’s payment method (Electronic check, Mailed check, Bank transfer (automatic), Credit card (automatic))\n",
        "\n",
        "MonthlyCharges: The amount charged to the customer monthly\n",
        "\n",
        "TotalCharges: The total amount charged to the customer\n",
        "\n",
        "Churn: Target, Whether the customer has left within the last month or not (Yes or No)"
      ]
    },
    {
      "cell_type": "markdown",
      "id": "277845b6",
      "metadata": {
        "id": "277845b6"
      },
      "source": [
        "## Import Libraries and Data"
      ]
    },
    {
      "cell_type": "code",
      "execution_count": null,
      "id": "1251497c",
      "metadata": {
        "scrolled": true,
        "id": "1251497c"
      },
      "outputs": [],
      "source": [
        "import pandas as pd\n",
        "import numpy as np\n",
        "\n",
        "# visualisation\n",
        "import seaborn as sns\n",
        "import matplotlib.pyplot as plt\n",
        "import missingno as msno\n",
        "import plotly.express as px\n",
        "\n",
        "# preprocessing\n",
        "from sklearn.preprocessing import StandardScaler\n",
        "from sklearn.model_selection import train_test_split, cross_val_score\n",
        "\n",
        "# balance data\n",
        "from imblearn.over_sampling import SMOTE\n",
        "\n",
        "# models\n",
        "from sklearn.linear_model import LogisticRegression\n",
        "from sklearn.svm import SVC\n",
        "from sklearn.ensemble import RandomForestClassifier,VotingClassifier\n",
        "from sklearn.neighbors import KNeighborsClassifier\n",
        "from sklearn.tree import DecisionTreeClassifier\n",
        "\n",
        "\n",
        "# evaluations\n",
        "from sklearn.metrics import confusion_matrix, accuracy_score, classification_report, roc_auc_score,auc,f1_score,precision_score, recall_score\n",
        "from sklearn.model_selection import KFold, RandomizedSearchCV\n",
        "\n",
        "# ignore warnings\n",
        "import warnings\n",
        "warnings.filterwarnings('ignore')"
      ]
    },
    {
      "cell_type": "code",
      "execution_count": null,
      "id": "308e4dc1",
      "metadata": {
        "id": "308e4dc1"
      },
      "outputs": [],
      "source": [
        "data = pd.read_csv('/TelcoCustomerChurn.csv')"
      ]
    },
    {
      "cell_type": "markdown",
      "id": "f5a521ac",
      "metadata": {
        "id": "f5a521ac"
      },
      "source": [
        "## Data Reading"
      ]
    },
    {
      "cell_type": "code",
      "execution_count": null,
      "id": "73059c29",
      "metadata": {
        "colab": {
          "base_uri": "https://localhost:8080/",
          "height": 386
        },
        "id": "73059c29",
        "outputId": "b5daba0b-9e3b-4536-9c72-c43ebe7fe0d9"
      },
      "outputs": [
        {
          "output_type": "execute_result",
          "data": {
            "text/plain": [
              "   customerID  gender  SeniorCitizen Partner Dependents  tenure PhoneService  \\\n",
              "0  7590-VHVEG  Female              0     Yes         No       1           No   \n",
              "1  5575-GNVDE    Male              0      No         No      34          Yes   \n",
              "2  3668-QPYBK    Male              0      No         No       2          Yes   \n",
              "3  7795-CFOCW    Male              0      No         No      45           No   \n",
              "4  9237-HQITU  Female              0      No         No       2          Yes   \n",
              "\n",
              "      MultipleLines InternetService OnlineSecurity  ... DeviceProtection  \\\n",
              "0  No phone service             DSL             No  ...               No   \n",
              "1                No             DSL            Yes  ...              Yes   \n",
              "2                No             DSL            Yes  ...               No   \n",
              "3  No phone service             DSL            Yes  ...              Yes   \n",
              "4                No     Fiber optic             No  ...               No   \n",
              "\n",
              "  TechSupport StreamingTV StreamingMovies        Contract PaperlessBilling  \\\n",
              "0          No          No              No  Month-to-month              Yes   \n",
              "1          No          No              No        One year               No   \n",
              "2          No          No              No  Month-to-month              Yes   \n",
              "3         Yes          No              No        One year               No   \n",
              "4          No          No              No  Month-to-month              Yes   \n",
              "\n",
              "               PaymentMethod MonthlyCharges  TotalCharges Churn  \n",
              "0           Electronic check          29.85         29.85    No  \n",
              "1               Mailed check          56.95        1889.5    No  \n",
              "2               Mailed check          53.85        108.15   Yes  \n",
              "3  Bank transfer (automatic)          42.30       1840.75    No  \n",
              "4           Electronic check          70.70        151.65   Yes  \n",
              "\n",
              "[5 rows x 21 columns]"
            ],
            "text/html": [
              "\n",
              "  <div id=\"df-5827996f-4d2b-477b-ad8d-2e458673aed2\">\n",
              "    <div class=\"colab-df-container\">\n",
              "      <div>\n",
              "<style scoped>\n",
              "    .dataframe tbody tr th:only-of-type {\n",
              "        vertical-align: middle;\n",
              "    }\n",
              "\n",
              "    .dataframe tbody tr th {\n",
              "        vertical-align: top;\n",
              "    }\n",
              "\n",
              "    .dataframe thead th {\n",
              "        text-align: right;\n",
              "    }\n",
              "</style>\n",
              "<table border=\"1\" class=\"dataframe\">\n",
              "  <thead>\n",
              "    <tr style=\"text-align: right;\">\n",
              "      <th></th>\n",
              "      <th>customerID</th>\n",
              "      <th>gender</th>\n",
              "      <th>SeniorCitizen</th>\n",
              "      <th>Partner</th>\n",
              "      <th>Dependents</th>\n",
              "      <th>tenure</th>\n",
              "      <th>PhoneService</th>\n",
              "      <th>MultipleLines</th>\n",
              "      <th>InternetService</th>\n",
              "      <th>OnlineSecurity</th>\n",
              "      <th>...</th>\n",
              "      <th>DeviceProtection</th>\n",
              "      <th>TechSupport</th>\n",
              "      <th>StreamingTV</th>\n",
              "      <th>StreamingMovies</th>\n",
              "      <th>Contract</th>\n",
              "      <th>PaperlessBilling</th>\n",
              "      <th>PaymentMethod</th>\n",
              "      <th>MonthlyCharges</th>\n",
              "      <th>TotalCharges</th>\n",
              "      <th>Churn</th>\n",
              "    </tr>\n",
              "  </thead>\n",
              "  <tbody>\n",
              "    <tr>\n",
              "      <th>0</th>\n",
              "      <td>7590-VHVEG</td>\n",
              "      <td>Female</td>\n",
              "      <td>0</td>\n",
              "      <td>Yes</td>\n",
              "      <td>No</td>\n",
              "      <td>1</td>\n",
              "      <td>No</td>\n",
              "      <td>No phone service</td>\n",
              "      <td>DSL</td>\n",
              "      <td>No</td>\n",
              "      <td>...</td>\n",
              "      <td>No</td>\n",
              "      <td>No</td>\n",
              "      <td>No</td>\n",
              "      <td>No</td>\n",
              "      <td>Month-to-month</td>\n",
              "      <td>Yes</td>\n",
              "      <td>Electronic check</td>\n",
              "      <td>29.85</td>\n",
              "      <td>29.85</td>\n",
              "      <td>No</td>\n",
              "    </tr>\n",
              "    <tr>\n",
              "      <th>1</th>\n",
              "      <td>5575-GNVDE</td>\n",
              "      <td>Male</td>\n",
              "      <td>0</td>\n",
              "      <td>No</td>\n",
              "      <td>No</td>\n",
              "      <td>34</td>\n",
              "      <td>Yes</td>\n",
              "      <td>No</td>\n",
              "      <td>DSL</td>\n",
              "      <td>Yes</td>\n",
              "      <td>...</td>\n",
              "      <td>Yes</td>\n",
              "      <td>No</td>\n",
              "      <td>No</td>\n",
              "      <td>No</td>\n",
              "      <td>One year</td>\n",
              "      <td>No</td>\n",
              "      <td>Mailed check</td>\n",
              "      <td>56.95</td>\n",
              "      <td>1889.5</td>\n",
              "      <td>No</td>\n",
              "    </tr>\n",
              "    <tr>\n",
              "      <th>2</th>\n",
              "      <td>3668-QPYBK</td>\n",
              "      <td>Male</td>\n",
              "      <td>0</td>\n",
              "      <td>No</td>\n",
              "      <td>No</td>\n",
              "      <td>2</td>\n",
              "      <td>Yes</td>\n",
              "      <td>No</td>\n",
              "      <td>DSL</td>\n",
              "      <td>Yes</td>\n",
              "      <td>...</td>\n",
              "      <td>No</td>\n",
              "      <td>No</td>\n",
              "      <td>No</td>\n",
              "      <td>No</td>\n",
              "      <td>Month-to-month</td>\n",
              "      <td>Yes</td>\n",
              "      <td>Mailed check</td>\n",
              "      <td>53.85</td>\n",
              "      <td>108.15</td>\n",
              "      <td>Yes</td>\n",
              "    </tr>\n",
              "    <tr>\n",
              "      <th>3</th>\n",
              "      <td>7795-CFOCW</td>\n",
              "      <td>Male</td>\n",
              "      <td>0</td>\n",
              "      <td>No</td>\n",
              "      <td>No</td>\n",
              "      <td>45</td>\n",
              "      <td>No</td>\n",
              "      <td>No phone service</td>\n",
              "      <td>DSL</td>\n",
              "      <td>Yes</td>\n",
              "      <td>...</td>\n",
              "      <td>Yes</td>\n",
              "      <td>Yes</td>\n",
              "      <td>No</td>\n",
              "      <td>No</td>\n",
              "      <td>One year</td>\n",
              "      <td>No</td>\n",
              "      <td>Bank transfer (automatic)</td>\n",
              "      <td>42.30</td>\n",
              "      <td>1840.75</td>\n",
              "      <td>No</td>\n",
              "    </tr>\n",
              "    <tr>\n",
              "      <th>4</th>\n",
              "      <td>9237-HQITU</td>\n",
              "      <td>Female</td>\n",
              "      <td>0</td>\n",
              "      <td>No</td>\n",
              "      <td>No</td>\n",
              "      <td>2</td>\n",
              "      <td>Yes</td>\n",
              "      <td>No</td>\n",
              "      <td>Fiber optic</td>\n",
              "      <td>No</td>\n",
              "      <td>...</td>\n",
              "      <td>No</td>\n",
              "      <td>No</td>\n",
              "      <td>No</td>\n",
              "      <td>No</td>\n",
              "      <td>Month-to-month</td>\n",
              "      <td>Yes</td>\n",
              "      <td>Electronic check</td>\n",
              "      <td>70.70</td>\n",
              "      <td>151.65</td>\n",
              "      <td>Yes</td>\n",
              "    </tr>\n",
              "  </tbody>\n",
              "</table>\n",
              "<p>5 rows × 21 columns</p>\n",
              "</div>\n",
              "      <button class=\"colab-df-convert\" onclick=\"convertToInteractive('df-5827996f-4d2b-477b-ad8d-2e458673aed2')\"\n",
              "              title=\"Convert this dataframe to an interactive table.\"\n",
              "              style=\"display:none;\">\n",
              "        \n",
              "  <svg xmlns=\"http://www.w3.org/2000/svg\" height=\"24px\"viewBox=\"0 0 24 24\"\n",
              "       width=\"24px\">\n",
              "    <path d=\"M0 0h24v24H0V0z\" fill=\"none\"/>\n",
              "    <path d=\"M18.56 5.44l.94 2.06.94-2.06 2.06-.94-2.06-.94-.94-2.06-.94 2.06-2.06.94zm-11 1L8.5 8.5l.94-2.06 2.06-.94-2.06-.94L8.5 2.5l-.94 2.06-2.06.94zm10 10l.94 2.06.94-2.06 2.06-.94-2.06-.94-.94-2.06-.94 2.06-2.06.94z\"/><path d=\"M17.41 7.96l-1.37-1.37c-.4-.4-.92-.59-1.43-.59-.52 0-1.04.2-1.43.59L10.3 9.45l-7.72 7.72c-.78.78-.78 2.05 0 2.83L4 21.41c.39.39.9.59 1.41.59.51 0 1.02-.2 1.41-.59l7.78-7.78 2.81-2.81c.8-.78.8-2.07 0-2.86zM5.41 20L4 18.59l7.72-7.72 1.47 1.35L5.41 20z\"/>\n",
              "  </svg>\n",
              "      </button>\n",
              "      \n",
              "  <style>\n",
              "    .colab-df-container {\n",
              "      display:flex;\n",
              "      flex-wrap:wrap;\n",
              "      gap: 12px;\n",
              "    }\n",
              "\n",
              "    .colab-df-convert {\n",
              "      background-color: #E8F0FE;\n",
              "      border: none;\n",
              "      border-radius: 50%;\n",
              "      cursor: pointer;\n",
              "      display: none;\n",
              "      fill: #1967D2;\n",
              "      height: 32px;\n",
              "      padding: 0 0 0 0;\n",
              "      width: 32px;\n",
              "    }\n",
              "\n",
              "    .colab-df-convert:hover {\n",
              "      background-color: #E2EBFA;\n",
              "      box-shadow: 0px 1px 2px rgba(60, 64, 67, 0.3), 0px 1px 3px 1px rgba(60, 64, 67, 0.15);\n",
              "      fill: #174EA6;\n",
              "    }\n",
              "\n",
              "    [theme=dark] .colab-df-convert {\n",
              "      background-color: #3B4455;\n",
              "      fill: #D2E3FC;\n",
              "    }\n",
              "\n",
              "    [theme=dark] .colab-df-convert:hover {\n",
              "      background-color: #434B5C;\n",
              "      box-shadow: 0px 1px 3px 1px rgba(0, 0, 0, 0.15);\n",
              "      filter: drop-shadow(0px 1px 2px rgba(0, 0, 0, 0.3));\n",
              "      fill: #FFFFFF;\n",
              "    }\n",
              "  </style>\n",
              "\n",
              "      <script>\n",
              "        const buttonEl =\n",
              "          document.querySelector('#df-5827996f-4d2b-477b-ad8d-2e458673aed2 button.colab-df-convert');\n",
              "        buttonEl.style.display =\n",
              "          google.colab.kernel.accessAllowed ? 'block' : 'none';\n",
              "\n",
              "        async function convertToInteractive(key) {\n",
              "          const element = document.querySelector('#df-5827996f-4d2b-477b-ad8d-2e458673aed2');\n",
              "          const dataTable =\n",
              "            await google.colab.kernel.invokeFunction('convertToInteractive',\n",
              "                                                     [key], {});\n",
              "          if (!dataTable) return;\n",
              "\n",
              "          const docLinkHtml = 'Like what you see? Visit the ' +\n",
              "            '<a target=\"_blank\" href=https://colab.research.google.com/notebooks/data_table.ipynb>data table notebook</a>'\n",
              "            + ' to learn more about interactive tables.';\n",
              "          element.innerHTML = '';\n",
              "          dataTable['output_type'] = 'display_data';\n",
              "          await google.colab.output.renderOutput(dataTable, element);\n",
              "          const docLink = document.createElement('div');\n",
              "          docLink.innerHTML = docLinkHtml;\n",
              "          element.appendChild(docLink);\n",
              "        }\n",
              "      </script>\n",
              "    </div>\n",
              "  </div>\n",
              "  "
            ]
          },
          "metadata": {},
          "execution_count": 75
        }
      ],
      "source": [
        "data.head()"
      ]
    },
    {
      "cell_type": "code",
      "execution_count": null,
      "id": "3bf3df26",
      "metadata": {
        "colab": {
          "base_uri": "https://localhost:8080/"
        },
        "id": "3bf3df26",
        "outputId": "339ba100-c869-4454-ed79-9f629126c229"
      },
      "outputs": [
        {
          "output_type": "execute_result",
          "data": {
            "text/plain": [
              "(7043, 21)"
            ]
          },
          "metadata": {},
          "execution_count": 76
        }
      ],
      "source": [
        "data.shape"
      ]
    },
    {
      "cell_type": "markdown",
      "id": "ca535892",
      "metadata": {
        "id": "ca535892"
      },
      "source": [
        "### Datasets Information"
      ]
    },
    {
      "cell_type": "code",
      "execution_count": null,
      "id": "8b6f4866",
      "metadata": {
        "colab": {
          "base_uri": "https://localhost:8080/"
        },
        "id": "8b6f4866",
        "outputId": "4cdb313f-ef5e-440c-8c89-8c1025a3626d"
      },
      "outputs": [
        {
          "output_type": "stream",
          "name": "stdout",
          "text": [
            "<class 'pandas.core.frame.DataFrame'>\n",
            "RangeIndex: 7043 entries, 0 to 7042\n",
            "Data columns (total 21 columns):\n",
            " #   Column            Non-Null Count  Dtype  \n",
            "---  ------            --------------  -----  \n",
            " 0   customerID        7043 non-null   object \n",
            " 1   gender            7043 non-null   object \n",
            " 2   SeniorCitizen     7043 non-null   int64  \n",
            " 3   Partner           7043 non-null   object \n",
            " 4   Dependents        7043 non-null   object \n",
            " 5   tenure            7043 non-null   int64  \n",
            " 6   PhoneService      7043 non-null   object \n",
            " 7   MultipleLines     7043 non-null   object \n",
            " 8   InternetService   7043 non-null   object \n",
            " 9   OnlineSecurity    7043 non-null   object \n",
            " 10  OnlineBackup      7043 non-null   object \n",
            " 11  DeviceProtection  7043 non-null   object \n",
            " 12  TechSupport       7043 non-null   object \n",
            " 13  StreamingTV       7043 non-null   object \n",
            " 14  StreamingMovies   7043 non-null   object \n",
            " 15  Contract          7043 non-null   object \n",
            " 16  PaperlessBilling  7043 non-null   object \n",
            " 17  PaymentMethod     7043 non-null   object \n",
            " 18  MonthlyCharges    7043 non-null   float64\n",
            " 19  TotalCharges      7043 non-null   object \n",
            " 20  Churn             7043 non-null   object \n",
            "dtypes: float64(1), int64(2), object(18)\n",
            "memory usage: 1.1+ MB\n"
          ]
        }
      ],
      "source": [
        "data.info()"
      ]
    },
    {
      "cell_type": "markdown",
      "id": "d3601b90",
      "metadata": {
        "id": "d3601b90"
      },
      "source": [
        "### Summary Statistics"
      ]
    },
    {
      "cell_type": "code",
      "execution_count": null,
      "id": "ecbe4ddc",
      "metadata": {
        "colab": {
          "base_uri": "https://localhost:8080/"
        },
        "id": "ecbe4ddc",
        "outputId": "2ecb866f-91af-48a7-9d2a-5a96eb86862b"
      },
      "outputs": [
        {
          "output_type": "execute_result",
          "data": {
            "text/plain": [
              "       SeniorCitizen       tenure  MonthlyCharges\n",
              "count    7043.000000  7043.000000     7043.000000\n",
              "mean        0.162147    32.371149       64.761692\n",
              "std         0.368612    24.559481       30.090047\n",
              "min         0.000000     0.000000       18.250000\n",
              "25%         0.000000     9.000000       35.500000\n",
              "50%         0.000000    29.000000       70.350000\n",
              "75%         0.000000    55.000000       89.850000\n",
              "max         1.000000    72.000000      118.750000"
            ],
            "text/html": [
              "\n",
              "  <div id=\"df-dba156a6-294a-4785-8fe4-1d9f14af6a9d\">\n",
              "    <div class=\"colab-df-container\">\n",
              "      <div>\n",
              "<style scoped>\n",
              "    .dataframe tbody tr th:only-of-type {\n",
              "        vertical-align: middle;\n",
              "    }\n",
              "\n",
              "    .dataframe tbody tr th {\n",
              "        vertical-align: top;\n",
              "    }\n",
              "\n",
              "    .dataframe thead th {\n",
              "        text-align: right;\n",
              "    }\n",
              "</style>\n",
              "<table border=\"1\" class=\"dataframe\">\n",
              "  <thead>\n",
              "    <tr style=\"text-align: right;\">\n",
              "      <th></th>\n",
              "      <th>SeniorCitizen</th>\n",
              "      <th>tenure</th>\n",
              "      <th>MonthlyCharges</th>\n",
              "    </tr>\n",
              "  </thead>\n",
              "  <tbody>\n",
              "    <tr>\n",
              "      <th>count</th>\n",
              "      <td>7043.000000</td>\n",
              "      <td>7043.000000</td>\n",
              "      <td>7043.000000</td>\n",
              "    </tr>\n",
              "    <tr>\n",
              "      <th>mean</th>\n",
              "      <td>0.162147</td>\n",
              "      <td>32.371149</td>\n",
              "      <td>64.761692</td>\n",
              "    </tr>\n",
              "    <tr>\n",
              "      <th>std</th>\n",
              "      <td>0.368612</td>\n",
              "      <td>24.559481</td>\n",
              "      <td>30.090047</td>\n",
              "    </tr>\n",
              "    <tr>\n",
              "      <th>min</th>\n",
              "      <td>0.000000</td>\n",
              "      <td>0.000000</td>\n",
              "      <td>18.250000</td>\n",
              "    </tr>\n",
              "    <tr>\n",
              "      <th>25%</th>\n",
              "      <td>0.000000</td>\n",
              "      <td>9.000000</td>\n",
              "      <td>35.500000</td>\n",
              "    </tr>\n",
              "    <tr>\n",
              "      <th>50%</th>\n",
              "      <td>0.000000</td>\n",
              "      <td>29.000000</td>\n",
              "      <td>70.350000</td>\n",
              "    </tr>\n",
              "    <tr>\n",
              "      <th>75%</th>\n",
              "      <td>0.000000</td>\n",
              "      <td>55.000000</td>\n",
              "      <td>89.850000</td>\n",
              "    </tr>\n",
              "    <tr>\n",
              "      <th>max</th>\n",
              "      <td>1.000000</td>\n",
              "      <td>72.000000</td>\n",
              "      <td>118.750000</td>\n",
              "    </tr>\n",
              "  </tbody>\n",
              "</table>\n",
              "</div>\n",
              "      <button class=\"colab-df-convert\" onclick=\"convertToInteractive('df-dba156a6-294a-4785-8fe4-1d9f14af6a9d')\"\n",
              "              title=\"Convert this dataframe to an interactive table.\"\n",
              "              style=\"display:none;\">\n",
              "        \n",
              "  <svg xmlns=\"http://www.w3.org/2000/svg\" height=\"24px\"viewBox=\"0 0 24 24\"\n",
              "       width=\"24px\">\n",
              "    <path d=\"M0 0h24v24H0V0z\" fill=\"none\"/>\n",
              "    <path d=\"M18.56 5.44l.94 2.06.94-2.06 2.06-.94-2.06-.94-.94-2.06-.94 2.06-2.06.94zm-11 1L8.5 8.5l.94-2.06 2.06-.94-2.06-.94L8.5 2.5l-.94 2.06-2.06.94zm10 10l.94 2.06.94-2.06 2.06-.94-2.06-.94-.94-2.06-.94 2.06-2.06.94z\"/><path d=\"M17.41 7.96l-1.37-1.37c-.4-.4-.92-.59-1.43-.59-.52 0-1.04.2-1.43.59L10.3 9.45l-7.72 7.72c-.78.78-.78 2.05 0 2.83L4 21.41c.39.39.9.59 1.41.59.51 0 1.02-.2 1.41-.59l7.78-7.78 2.81-2.81c.8-.78.8-2.07 0-2.86zM5.41 20L4 18.59l7.72-7.72 1.47 1.35L5.41 20z\"/>\n",
              "  </svg>\n",
              "      </button>\n",
              "      \n",
              "  <style>\n",
              "    .colab-df-container {\n",
              "      display:flex;\n",
              "      flex-wrap:wrap;\n",
              "      gap: 12px;\n",
              "    }\n",
              "\n",
              "    .colab-df-convert {\n",
              "      background-color: #E8F0FE;\n",
              "      border: none;\n",
              "      border-radius: 50%;\n",
              "      cursor: pointer;\n",
              "      display: none;\n",
              "      fill: #1967D2;\n",
              "      height: 32px;\n",
              "      padding: 0 0 0 0;\n",
              "      width: 32px;\n",
              "    }\n",
              "\n",
              "    .colab-df-convert:hover {\n",
              "      background-color: #E2EBFA;\n",
              "      box-shadow: 0px 1px 2px rgba(60, 64, 67, 0.3), 0px 1px 3px 1px rgba(60, 64, 67, 0.15);\n",
              "      fill: #174EA6;\n",
              "    }\n",
              "\n",
              "    [theme=dark] .colab-df-convert {\n",
              "      background-color: #3B4455;\n",
              "      fill: #D2E3FC;\n",
              "    }\n",
              "\n",
              "    [theme=dark] .colab-df-convert:hover {\n",
              "      background-color: #434B5C;\n",
              "      box-shadow: 0px 1px 3px 1px rgba(0, 0, 0, 0.15);\n",
              "      filter: drop-shadow(0px 1px 2px rgba(0, 0, 0, 0.3));\n",
              "      fill: #FFFFFF;\n",
              "    }\n",
              "  </style>\n",
              "\n",
              "      <script>\n",
              "        const buttonEl =\n",
              "          document.querySelector('#df-dba156a6-294a-4785-8fe4-1d9f14af6a9d button.colab-df-convert');\n",
              "        buttonEl.style.display =\n",
              "          google.colab.kernel.accessAllowed ? 'block' : 'none';\n",
              "\n",
              "        async function convertToInteractive(key) {\n",
              "          const element = document.querySelector('#df-dba156a6-294a-4785-8fe4-1d9f14af6a9d');\n",
              "          const dataTable =\n",
              "            await google.colab.kernel.invokeFunction('convertToInteractive',\n",
              "                                                     [key], {});\n",
              "          if (!dataTable) return;\n",
              "\n",
              "          const docLinkHtml = 'Like what you see? Visit the ' +\n",
              "            '<a target=\"_blank\" href=https://colab.research.google.com/notebooks/data_table.ipynb>data table notebook</a>'\n",
              "            + ' to learn more about interactive tables.';\n",
              "          element.innerHTML = '';\n",
              "          dataTable['output_type'] = 'display_data';\n",
              "          await google.colab.output.renderOutput(dataTable, element);\n",
              "          const docLink = document.createElement('div');\n",
              "          docLink.innerHTML = docLinkHtml;\n",
              "          element.appendChild(docLink);\n",
              "        }\n",
              "      </script>\n",
              "    </div>\n",
              "  </div>\n",
              "  "
            ]
          },
          "metadata": {},
          "execution_count": 78
        }
      ],
      "source": [
        "data.describe()"
      ]
    },
    {
      "cell_type": "code",
      "execution_count": null,
      "id": "0a41f75e",
      "metadata": {
        "colab": {
          "base_uri": "https://localhost:8080/"
        },
        "id": "0a41f75e",
        "outputId": "6870c8d1-5fb5-4540-b2ee-eb50ea033add"
      },
      "outputs": [
        {
          "output_type": "execute_result",
          "data": {
            "text/plain": [
              "                 count unique               top  freq\n",
              "customerID        7043   7043        7590-VHVEG     1\n",
              "gender            7043      2              Male  3555\n",
              "Partner           7043      2                No  3641\n",
              "Dependents        7043      2                No  4933\n",
              "PhoneService      7043      2               Yes  6361\n",
              "MultipleLines     7043      3                No  3390\n",
              "InternetService   7043      3       Fiber optic  3096\n",
              "OnlineSecurity    7043      3                No  3498\n",
              "OnlineBackup      7043      3                No  3088\n",
              "DeviceProtection  7043      3                No  3095\n",
              "TechSupport       7043      3                No  3473\n",
              "StreamingTV       7043      3                No  2810\n",
              "StreamingMovies   7043      3                No  2785\n",
              "Contract          7043      3    Month-to-month  3875\n",
              "PaperlessBilling  7043      2               Yes  4171\n",
              "PaymentMethod     7043      4  Electronic check  2365\n",
              "TotalCharges      7043   6531                      11\n",
              "Churn             7043      2                No  5174"
            ],
            "text/html": [
              "\n",
              "  <div id=\"df-f024f305-9f4b-4871-ac8a-6496611eac96\">\n",
              "    <div class=\"colab-df-container\">\n",
              "      <div>\n",
              "<style scoped>\n",
              "    .dataframe tbody tr th:only-of-type {\n",
              "        vertical-align: middle;\n",
              "    }\n",
              "\n",
              "    .dataframe tbody tr th {\n",
              "        vertical-align: top;\n",
              "    }\n",
              "\n",
              "    .dataframe thead th {\n",
              "        text-align: right;\n",
              "    }\n",
              "</style>\n",
              "<table border=\"1\" class=\"dataframe\">\n",
              "  <thead>\n",
              "    <tr style=\"text-align: right;\">\n",
              "      <th></th>\n",
              "      <th>count</th>\n",
              "      <th>unique</th>\n",
              "      <th>top</th>\n",
              "      <th>freq</th>\n",
              "    </tr>\n",
              "  </thead>\n",
              "  <tbody>\n",
              "    <tr>\n",
              "      <th>customerID</th>\n",
              "      <td>7043</td>\n",
              "      <td>7043</td>\n",
              "      <td>7590-VHVEG</td>\n",
              "      <td>1</td>\n",
              "    </tr>\n",
              "    <tr>\n",
              "      <th>gender</th>\n",
              "      <td>7043</td>\n",
              "      <td>2</td>\n",
              "      <td>Male</td>\n",
              "      <td>3555</td>\n",
              "    </tr>\n",
              "    <tr>\n",
              "      <th>Partner</th>\n",
              "      <td>7043</td>\n",
              "      <td>2</td>\n",
              "      <td>No</td>\n",
              "      <td>3641</td>\n",
              "    </tr>\n",
              "    <tr>\n",
              "      <th>Dependents</th>\n",
              "      <td>7043</td>\n",
              "      <td>2</td>\n",
              "      <td>No</td>\n",
              "      <td>4933</td>\n",
              "    </tr>\n",
              "    <tr>\n",
              "      <th>PhoneService</th>\n",
              "      <td>7043</td>\n",
              "      <td>2</td>\n",
              "      <td>Yes</td>\n",
              "      <td>6361</td>\n",
              "    </tr>\n",
              "    <tr>\n",
              "      <th>MultipleLines</th>\n",
              "      <td>7043</td>\n",
              "      <td>3</td>\n",
              "      <td>No</td>\n",
              "      <td>3390</td>\n",
              "    </tr>\n",
              "    <tr>\n",
              "      <th>InternetService</th>\n",
              "      <td>7043</td>\n",
              "      <td>3</td>\n",
              "      <td>Fiber optic</td>\n",
              "      <td>3096</td>\n",
              "    </tr>\n",
              "    <tr>\n",
              "      <th>OnlineSecurity</th>\n",
              "      <td>7043</td>\n",
              "      <td>3</td>\n",
              "      <td>No</td>\n",
              "      <td>3498</td>\n",
              "    </tr>\n",
              "    <tr>\n",
              "      <th>OnlineBackup</th>\n",
              "      <td>7043</td>\n",
              "      <td>3</td>\n",
              "      <td>No</td>\n",
              "      <td>3088</td>\n",
              "    </tr>\n",
              "    <tr>\n",
              "      <th>DeviceProtection</th>\n",
              "      <td>7043</td>\n",
              "      <td>3</td>\n",
              "      <td>No</td>\n",
              "      <td>3095</td>\n",
              "    </tr>\n",
              "    <tr>\n",
              "      <th>TechSupport</th>\n",
              "      <td>7043</td>\n",
              "      <td>3</td>\n",
              "      <td>No</td>\n",
              "      <td>3473</td>\n",
              "    </tr>\n",
              "    <tr>\n",
              "      <th>StreamingTV</th>\n",
              "      <td>7043</td>\n",
              "      <td>3</td>\n",
              "      <td>No</td>\n",
              "      <td>2810</td>\n",
              "    </tr>\n",
              "    <tr>\n",
              "      <th>StreamingMovies</th>\n",
              "      <td>7043</td>\n",
              "      <td>3</td>\n",
              "      <td>No</td>\n",
              "      <td>2785</td>\n",
              "    </tr>\n",
              "    <tr>\n",
              "      <th>Contract</th>\n",
              "      <td>7043</td>\n",
              "      <td>3</td>\n",
              "      <td>Month-to-month</td>\n",
              "      <td>3875</td>\n",
              "    </tr>\n",
              "    <tr>\n",
              "      <th>PaperlessBilling</th>\n",
              "      <td>7043</td>\n",
              "      <td>2</td>\n",
              "      <td>Yes</td>\n",
              "      <td>4171</td>\n",
              "    </tr>\n",
              "    <tr>\n",
              "      <th>PaymentMethod</th>\n",
              "      <td>7043</td>\n",
              "      <td>4</td>\n",
              "      <td>Electronic check</td>\n",
              "      <td>2365</td>\n",
              "    </tr>\n",
              "    <tr>\n",
              "      <th>TotalCharges</th>\n",
              "      <td>7043</td>\n",
              "      <td>6531</td>\n",
              "      <td></td>\n",
              "      <td>11</td>\n",
              "    </tr>\n",
              "    <tr>\n",
              "      <th>Churn</th>\n",
              "      <td>7043</td>\n",
              "      <td>2</td>\n",
              "      <td>No</td>\n",
              "      <td>5174</td>\n",
              "    </tr>\n",
              "  </tbody>\n",
              "</table>\n",
              "</div>\n",
              "      <button class=\"colab-df-convert\" onclick=\"convertToInteractive('df-f024f305-9f4b-4871-ac8a-6496611eac96')\"\n",
              "              title=\"Convert this dataframe to an interactive table.\"\n",
              "              style=\"display:none;\">\n",
              "        \n",
              "  <svg xmlns=\"http://www.w3.org/2000/svg\" height=\"24px\"viewBox=\"0 0 24 24\"\n",
              "       width=\"24px\">\n",
              "    <path d=\"M0 0h24v24H0V0z\" fill=\"none\"/>\n",
              "    <path d=\"M18.56 5.44l.94 2.06.94-2.06 2.06-.94-2.06-.94-.94-2.06-.94 2.06-2.06.94zm-11 1L8.5 8.5l.94-2.06 2.06-.94-2.06-.94L8.5 2.5l-.94 2.06-2.06.94zm10 10l.94 2.06.94-2.06 2.06-.94-2.06-.94-.94-2.06-.94 2.06-2.06.94z\"/><path d=\"M17.41 7.96l-1.37-1.37c-.4-.4-.92-.59-1.43-.59-.52 0-1.04.2-1.43.59L10.3 9.45l-7.72 7.72c-.78.78-.78 2.05 0 2.83L4 21.41c.39.39.9.59 1.41.59.51 0 1.02-.2 1.41-.59l7.78-7.78 2.81-2.81c.8-.78.8-2.07 0-2.86zM5.41 20L4 18.59l7.72-7.72 1.47 1.35L5.41 20z\"/>\n",
              "  </svg>\n",
              "      </button>\n",
              "      \n",
              "  <style>\n",
              "    .colab-df-container {\n",
              "      display:flex;\n",
              "      flex-wrap:wrap;\n",
              "      gap: 12px;\n",
              "    }\n",
              "\n",
              "    .colab-df-convert {\n",
              "      background-color: #E8F0FE;\n",
              "      border: none;\n",
              "      border-radius: 50%;\n",
              "      cursor: pointer;\n",
              "      display: none;\n",
              "      fill: #1967D2;\n",
              "      height: 32px;\n",
              "      padding: 0 0 0 0;\n",
              "      width: 32px;\n",
              "    }\n",
              "\n",
              "    .colab-df-convert:hover {\n",
              "      background-color: #E2EBFA;\n",
              "      box-shadow: 0px 1px 2px rgba(60, 64, 67, 0.3), 0px 1px 3px 1px rgba(60, 64, 67, 0.15);\n",
              "      fill: #174EA6;\n",
              "    }\n",
              "\n",
              "    [theme=dark] .colab-df-convert {\n",
              "      background-color: #3B4455;\n",
              "      fill: #D2E3FC;\n",
              "    }\n",
              "\n",
              "    [theme=dark] .colab-df-convert:hover {\n",
              "      background-color: #434B5C;\n",
              "      box-shadow: 0px 1px 3px 1px rgba(0, 0, 0, 0.15);\n",
              "      filter: drop-shadow(0px 1px 2px rgba(0, 0, 0, 0.3));\n",
              "      fill: #FFFFFF;\n",
              "    }\n",
              "  </style>\n",
              "\n",
              "      <script>\n",
              "        const buttonEl =\n",
              "          document.querySelector('#df-f024f305-9f4b-4871-ac8a-6496611eac96 button.colab-df-convert');\n",
              "        buttonEl.style.display =\n",
              "          google.colab.kernel.accessAllowed ? 'block' : 'none';\n",
              "\n",
              "        async function convertToInteractive(key) {\n",
              "          const element = document.querySelector('#df-f024f305-9f4b-4871-ac8a-6496611eac96');\n",
              "          const dataTable =\n",
              "            await google.colab.kernel.invokeFunction('convertToInteractive',\n",
              "                                                     [key], {});\n",
              "          if (!dataTable) return;\n",
              "\n",
              "          const docLinkHtml = 'Like what you see? Visit the ' +\n",
              "            '<a target=\"_blank\" href=https://colab.research.google.com/notebooks/data_table.ipynb>data table notebook</a>'\n",
              "            + ' to learn more about interactive tables.';\n",
              "          element.innerHTML = '';\n",
              "          dataTable['output_type'] = 'display_data';\n",
              "          await google.colab.output.renderOutput(dataTable, element);\n",
              "          const docLink = document.createElement('div');\n",
              "          docLink.innerHTML = docLinkHtml;\n",
              "          element.appendChild(docLink);\n",
              "        }\n",
              "      </script>\n",
              "    </div>\n",
              "  </div>\n",
              "  "
            ]
          },
          "metadata": {},
          "execution_count": 79
        }
      ],
      "source": [
        "data.describe(include=object).T"
      ]
    },
    {
      "cell_type": "markdown",
      "id": "5d5ed9cc",
      "metadata": {
        "id": "5d5ed9cc"
      },
      "source": [
        "## Data Visualization"
      ]
    },
    {
      "cell_type": "markdown",
      "id": "d26fa674",
      "metadata": {
        "id": "d26fa674"
      },
      "source": [
        "### Churn Frequency"
      ]
    },
    {
      "cell_type": "code",
      "execution_count": null,
      "id": "684786e3",
      "metadata": {
        "colab": {
          "base_uri": "https://localhost:8080/",
          "height": 499
        },
        "id": "684786e3",
        "outputId": "9af794a2-d5a3-4501-f689-6e7e08f3dda4"
      },
      "outputs": [
        {
          "output_type": "execute_result",
          "data": {
            "text/plain": [
              "Text(0.5, 1.0, '% of Churning')"
            ]
          },
          "metadata": {},
          "execution_count": 80
        },
        {
          "output_type": "display_data",
          "data": {
            "text/plain": [
              "<Figure size 720x576 with 1 Axes>"
            ],
            "image/png": "[encoded data removed]"
          },
          "metadata": {}
        }
      ],
      "source": [
        "data['Churn'].value_counts().plot.pie(autopct='%1.1f%%',figsize=(10,8));\n",
        "plt.title(\"% of Churning\")"
      ]
    },
    {
      "cell_type": "markdown",
      "id": "4ab4efce",
      "metadata": {
        "id": "4ab4efce"
      },
      "source": [
        "We have imbalanced data.\n",
        "\n",
        "26.5%  of customers switched to another company."
      ]
    },
    {
      "cell_type": "markdown",
      "id": "50f548e2",
      "metadata": {
        "id": "50f548e2"
      },
      "source": [
        "### Gender and Churn Distribuions"
      ]
    },
    {
      "cell_type": "code",
      "execution_count": null,
      "id": "5d89629f",
      "metadata": {
        "scrolled": true,
        "colab": {
          "base_uri": "https://localhost:8080/",
          "height": 296
        },
        "id": "5d89629f",
        "outputId": "c6b68e5d-0e7a-4867-cfa8-c0cda24e8199"
      },
      "outputs": [
        {
          "output_type": "execute_result",
          "data": {
            "text/plain": [
              "<matplotlib.axes._subplots.AxesSubplot at 0x7f9d3fdbabd0>"
            ]
          },
          "metadata": {},
          "execution_count": 81
        },
        {
          "output_type": "display_data",
          "data": {
            "text/plain": [
              "<Figure size 432x288 with 1 Axes>"
            ],
            "image/png": "[encoded data removed]"
          },
          "metadata": {
            "needs_background": "light"
          }
        }
      ],
      "source": [
        "sns.countplot(\"Churn\", data=data,hue=\"gender\")"
      ]
    },
    {
      "cell_type": "code",
      "execution_count": null,
      "id": "30546f8a",
      "metadata": {
        "colab": {
          "base_uri": "https://localhost:8080/"
        },
        "id": "30546f8a",
        "outputId": "f2a72a05-4184-4353-a12c-2f39397ffdbf"
      },
      "outputs": [
        {
          "output_type": "stream",
          "name": "stdout",
          "text": [
            "A female customer has a probability of 26.92 % churn\n",
            "A male customer has a probability of 26.16 % churn\n"
          ]
        }
      ],
      "source": [
        "print(f'A female customer has a probability of {round(data[(data[\"gender\"] == \"Female\") & (data[\"Churn\"] == \"Yes\")].count()[0] / data[(data[\"gender\"] == \"Female\")].count()[0] *100,2)} % churn')\n",
        "\n",
        "print(f'A male customer has a probability of {round(data[(data[\"gender\"] == \"Male\") & (data[\"Churn\"] == \"Yes\")].count()[0] / data[(data[\"gender\"] == \"Male\")].count()[0]*100,2)} % churn')"
      ]
    },
    {
      "cell_type": "markdown",
      "id": "05756b93",
      "metadata": {
        "id": "05756b93"
      },
      "source": [
        "There is negligible difference in customer percentage who changed the service provider. Both genders behaved in similar way when it comes to migrating to another service provider."
      ]
    },
    {
      "cell_type": "markdown",
      "id": "7dc7c7da",
      "metadata": {
        "id": "7dc7c7da"
      },
      "source": [
        "### Customer Contract Distribution w.r.t Churn"
      ]
    },
    {
      "cell_type": "code",
      "execution_count": null,
      "id": "d1e602c4",
      "metadata": {
        "scrolled": false,
        "colab": {
          "base_uri": "https://localhost:8080/",
          "height": 514
        },
        "id": "d1e602c4",
        "outputId": "737c212a-6047-41ce-d8ad-bb695304daf1"
      },
      "outputs": [
        {
          "output_type": "execute_result",
          "data": {
            "text/plain": [
              "<matplotlib.axes._subplots.AxesSubplot at 0x7f9d443a5290>"
            ]
          },
          "metadata": {},
          "execution_count": 83
        },
        {
          "output_type": "display_data",
          "data": {
            "text/plain": [
              "<Figure size 720x576 with 1 Axes>"
            ],
            "image/png": "[encoded data removed]"
          },
          "metadata": {
            "needs_background": "light"
          }
        }
      ],
      "source": [
        "plt.figure(figsize=(10,8))\n",
        "sns.countplot(\"Churn\", data=data,hue=\"Contract\")"
      ]
    },
    {
      "cell_type": "code",
      "execution_count": null,
      "id": "7a130218",
      "metadata": {
        "colab": {
          "base_uri": "https://localhost:8080/"
        },
        "id": "7a130218",
        "outputId": "d3a3914c-1f24-403b-b2e6-b4084f48e9b2"
      },
      "outputs": [
        {
          "output_type": "stream",
          "name": "stdout",
          "text": [
            "A customer with month-to-month contract has a probability of 42.71 % churn\n",
            "A customer with one year contract has a probability of 11.27 % churn\n",
            "A customer with two year contract has a probability of 2.83 % churn\n"
          ]
        }
      ],
      "source": [
        "print(f'A customer with month-to-month contract has a probability of {round(data[(data[\"Contract\"] == \"Month-to-month\") & (data[\"Churn\"] == \"Yes\")].count()[0] / data[(data[\"Contract\"] == \"Month-to-month\")].count()[0] *100,2)} % churn')\n",
        "\n",
        "print(f'A customer with one year contract has a probability of {round(data[(data[\"Contract\"] == \"One year\") & (data[\"Churn\"] == \"Yes\")].count()[0] / data[(data[\"Contract\"] == \"One year\")].count()[0]*100,2)} % churn')\n",
        "\n",
        "print(f'A customer with two year contract has a probability of {round(data[(data[\"Contract\"] == \"Two year\") & (data[\"Churn\"] == \"Yes\")].count()[0] / data[(data[\"Contract\"] == \"Two year\")].count()[0]*100,2)} % churn')"
      ]
    },
    {
      "cell_type": "markdown",
      "id": "d0e5c1fa",
      "metadata": {
        "id": "d0e5c1fa"
      },
      "source": [
        "About 43% of customer with Month-to-Month Contract opted to move out as compared to 11% of customrs with One Year Contract and 3% with Two Year Contract. A major percent of people who left the comapny had Month-to-Month Contract."
      ]
    },
    {
      "cell_type": "markdown",
      "id": "96380d65",
      "metadata": {
        "id": "96380d65"
      },
      "source": [
        "### Payment Method Distribution w.r.t Churn"
      ]
    },
    {
      "cell_type": "code",
      "execution_count": null,
      "id": "1f0b6b79",
      "metadata": {
        "colab": {
          "base_uri": "https://localhost:8080/",
          "height": 499
        },
        "id": "1f0b6b79",
        "outputId": "629795b8-1251-4277-d3fd-fab935bc13f3"
      },
      "outputs": [
        {
          "output_type": "execute_result",
          "data": {
            "text/plain": [
              "Text(0.5, 1.0, '% of Payment Method')"
            ]
          },
          "metadata": {},
          "execution_count": 85
        },
        {
          "output_type": "display_data",
          "data": {
            "text/plain": [
              "<Figure size 720x576 with 1 Axes>"
            ],
            "image/png": "[encoded data removed]"
          },
          "metadata": {}
        }
      ],
      "source": [
        "data['PaymentMethod'].value_counts().plot.pie(autopct='%1.1f%%',figsize=(10,8));\n",
        "plt.title(\"% of Payment Method\")"
      ]
    },
    {
      "cell_type": "code",
      "execution_count": null,
      "id": "80360ee0",
      "metadata": {
        "colab": {
          "base_uri": "https://localhost:8080/",
          "height": 514
        },
        "id": "80360ee0",
        "outputId": "a28d9ca5-e0eb-45f2-e9be-270827c11918"
      },
      "outputs": [
        {
          "output_type": "execute_result",
          "data": {
            "text/plain": [
              "<matplotlib.axes._subplots.AxesSubplot at 0x7f9d3fc5e790>"
            ]
          },
          "metadata": {},
          "execution_count": 86
        },
        {
          "output_type": "display_data",
          "data": {
            "text/plain": [
              "<Figure size 720x576 with 1 Axes>"
            ],
            "image/png": "[encoded data removed]"
          },
          "metadata": {
            "needs_background": "light"
          }
        }
      ],
      "source": [
        "plt.figure(figsize=(10,8))\n",
        "sns.countplot(\"Churn\", data=data,hue=\"PaymentMethod\")"
      ]
    },
    {
      "cell_type": "markdown",
      "id": "b3ade10e",
      "metadata": {
        "id": "b3ade10e"
      },
      "source": [
        "Major customers who moved out had Electronic Check as Payment Method.\n",
        "\n",
        "Customers who chose Credit-Card automatic transfer or Bank Automatic Transfer and Mailed Check as Payment Method were less likely to move out."
      ]
    },
    {
      "cell_type": "markdown",
      "id": "5eafb3e4",
      "metadata": {
        "id": "5eafb3e4"
      },
      "source": [
        "### Churn Distribution w.r.t Internet Service"
      ]
    },
    {
      "cell_type": "code",
      "execution_count": null,
      "id": "ea1d48a1",
      "metadata": {
        "scrolled": false,
        "colab": {
          "base_uri": "https://localhost:8080/",
          "height": 514
        },
        "id": "ea1d48a1",
        "outputId": "77b422a3-10bb-4b5c-ea47-a4599edc4b5b"
      },
      "outputs": [
        {
          "output_type": "execute_result",
          "data": {
            "text/plain": [
              "<matplotlib.axes._subplots.AxesSubplot at 0x7f9d3fbe8f10>"
            ]
          },
          "metadata": {},
          "execution_count": 87
        },
        {
          "output_type": "display_data",
          "data": {
            "text/plain": [
              "<Figure size 720x576 with 1 Axes>"
            ],
            "image/png": "[encoded data removed]"
          },
          "metadata": {
            "needs_background": "light"
          }
        }
      ],
      "source": [
        "plt.figure(figsize=(10,8))\n",
        "sns.countplot(\"Churn\", data=data,hue=(\"InternetService\"))"
      ]
    },
    {
      "cell_type": "markdown",
      "id": "42eaea50",
      "metadata": {
        "id": "42eaea50"
      },
      "source": [
        "A lot of customers choose the Fiber optic service and it's also evident that the customers who use Fiber optic have high churn rate, this might suggest a dissatisfaction with this type of internet service.\n",
        "\n",
        "Customers having DSL service are majority in number and have less churn rate compared to Fibre optic service."
      ]
    },
    {
      "cell_type": "markdown",
      "id": "0f48523c",
      "metadata": {
        "id": "0f48523c"
      },
      "source": [
        "### Dependents Distribution"
      ]
    },
    {
      "cell_type": "code",
      "execution_count": null,
      "id": "6da407ea",
      "metadata": {
        "colab": {
          "base_uri": "https://localhost:8080/",
          "height": 499
        },
        "id": "6da407ea",
        "outputId": "334424bb-c2d9-465e-9a6e-82196c31a697"
      },
      "outputs": [
        {
          "output_type": "execute_result",
          "data": {
            "text/plain": [
              "Text(0.5, 1.0, '% of Dependents')"
            ]
          },
          "metadata": {},
          "execution_count": 88
        },
        {
          "output_type": "display_data",
          "data": {
            "text/plain": [
              "<Figure size 720x576 with 1 Axes>"
            ],
            "image/png": "[encoded data removed]"
          },
          "metadata": {}
        }
      ],
      "source": [
        "data['Dependents'].value_counts().plot.pie(autopct='%1.1f%%',figsize=(10,8));\n",
        "plt.title(\"% of Dependents\")"
      ]
    },
    {
      "cell_type": "code",
      "execution_count": null,
      "id": "a7cd312e",
      "metadata": {
        "colab": {
          "base_uri": "https://localhost:8080/",
          "height": 514
        },
        "id": "a7cd312e",
        "outputId": "dff9f8cc-a873-4f94-f061-30d4e15ea66e"
      },
      "outputs": [
        {
          "output_type": "execute_result",
          "data": {
            "text/plain": [
              "<matplotlib.axes._subplots.AxesSubplot at 0x7f9d3fbb92d0>"
            ]
          },
          "metadata": {},
          "execution_count": 89
        },
        {
          "output_type": "display_data",
          "data": {
            "text/plain": [
              "<Figure size 720x576 with 1 Axes>"
            ],
            "image/png": "[encoded data removed]"
          },
          "metadata": {
            "needs_background": "light"
          }
        }
      ],
      "source": [
        "plt.figure(figsize=(10,8))\n",
        "sns.countplot(\"Churn\", data=data,hue=(\"Dependents\"))"
      ]
    },
    {
      "cell_type": "markdown",
      "id": "abd2d8ee",
      "metadata": {
        "id": "abd2d8ee"
      },
      "source": [
        "Customers without dependents are more likely to churn."
      ]
    },
    {
      "cell_type": "markdown",
      "id": "942a0e25",
      "metadata": {
        "id": "942a0e25"
      },
      "source": [
        "### Partner Distribution"
      ]
    },
    {
      "cell_type": "code",
      "execution_count": null,
      "id": "2aa80bec",
      "metadata": {
        "colab": {
          "base_uri": "https://localhost:8080/",
          "height": 499
        },
        "id": "2aa80bec",
        "outputId": "c821ee31-2a18-4a81-8fb1-102c9ba0d89a"
      },
      "outputs": [
        {
          "output_type": "execute_result",
          "data": {
            "text/plain": [
              "Text(0.5, 1.0, '% of Partner')"
            ]
          },
          "metadata": {},
          "execution_count": 90
        },
        {
          "output_type": "display_data",
          "data": {
            "text/plain": [
              "<Figure size 720x576 with 1 Axes>"
            ],
            "image/png": "[encoded data removed]"
          },
          "metadata": {}
        }
      ],
      "source": [
        "data['Partner'].value_counts().plot.pie(autopct='%1.1f%%',figsize=(10,8));\n",
        "plt.title(\"% of Partner\")"
      ]
    },
    {
      "cell_type": "code",
      "execution_count": null,
      "id": "c92dde94",
      "metadata": {
        "colab": {
          "base_uri": "https://localhost:8080/",
          "height": 514
        },
        "id": "c92dde94",
        "outputId": "a67446c2-a62a-4ba5-d357-200a0380712e"
      },
      "outputs": [
        {
          "output_type": "execute_result",
          "data": {
            "text/plain": [
              "<matplotlib.axes._subplots.AxesSubplot at 0x7f9d3fb80a10>"
            ]
          },
          "metadata": {},
          "execution_count": 91
        },
        {
          "output_type": "display_data",
          "data": {
            "text/plain": [
              "<Figure size 720x576 with 1 Axes>"
            ],
            "image/png": "[encoded data removed]"
          },
          "metadata": {
            "needs_background": "light"
          }
        }
      ],
      "source": [
        "plt.figure(figsize=(10,8))\n",
        "sns.countplot(\"Churn\", data=data,hue=(\"Partner\"))"
      ]
    },
    {
      "cell_type": "markdown",
      "id": "6429d0ed",
      "metadata": {
        "id": "6429d0ed"
      },
      "source": [
        "Customers that doesn't have partners are more likely to churn."
      ]
    },
    {
      "cell_type": "markdown",
      "id": "f19fc8cf",
      "metadata": {
        "id": "f19fc8cf"
      },
      "source": [
        "### Senior Citizen Distributionh"
      ]
    },
    {
      "cell_type": "code",
      "execution_count": null,
      "id": "82b76347",
      "metadata": {
        "colab": {
          "base_uri": "https://localhost:8080/",
          "height": 499
        },
        "id": "82b76347",
        "outputId": "439ce958-36ad-4851-939b-3afd29a097d8"
      },
      "outputs": [
        {
          "output_type": "execute_result",
          "data": {
            "text/plain": [
              "Text(0.5, 1.0, '% of Senior Citizen')"
            ]
          },
          "metadata": {},
          "execution_count": 92
        },
        {
          "output_type": "display_data",
          "data": {
            "text/plain": [
              "<Figure size 720x576 with 1 Axes>"
            ],
            "image/png": "[encoded data removed]"
          },
          "metadata": {}
        }
      ],
      "source": [
        "data['SeniorCitizen'].value_counts().plot.pie(autopct='%1.1f%%',figsize=(10,8));\n",
        "plt.title(\"% of Senior Citizen\")"
      ]
    },
    {
      "cell_type": "code",
      "execution_count": null,
      "id": "f140444b",
      "metadata": {
        "colab": {
          "base_uri": "https://localhost:8080/",
          "height": 514
        },
        "id": "f140444b",
        "outputId": "c716a091-a86c-43ff-9c65-6a0005340554"
      },
      "outputs": [
        {
          "output_type": "execute_result",
          "data": {
            "text/plain": [
              "<matplotlib.axes._subplots.AxesSubplot at 0x7f9d3facb710>"
            ]
          },
          "metadata": {},
          "execution_count": 93
        },
        {
          "output_type": "display_data",
          "data": {
            "text/plain": [
              "<Figure size 720x576 with 1 Axes>"
            ],
            "image/png": "[encoded data removed]"
          },
          "metadata": {
            "needs_background": "light"
          }
        }
      ],
      "source": [
        "plt.figure(figsize=(10,8))\n",
        "sns.countplot(\"Churn\", data=data,hue=(\"SeniorCitizen\"))"
      ]
    },
    {
      "cell_type": "markdown",
      "id": "bbc1daaa",
      "metadata": {
        "id": "bbc1daaa"
      },
      "source": [
        "It can be observed that the there are vey few senior citizens who churns."
      ]
    },
    {
      "cell_type": "markdown",
      "id": "27e71fd6",
      "metadata": {
        "id": "27e71fd6"
      },
      "source": [
        "### TechSupport Distribution"
      ]
    },
    {
      "cell_type": "code",
      "execution_count": null,
      "id": "0a0b7770",
      "metadata": {
        "colab": {
          "base_uri": "https://localhost:8080/",
          "height": 499
        },
        "id": "0a0b7770",
        "outputId": "6c21abca-1813-40fb-d680-dd41ab1fc29d"
      },
      "outputs": [
        {
          "output_type": "execute_result",
          "data": {
            "text/plain": [
              "Text(0.5, 1.0, '% of TechSupport')"
            ]
          },
          "metadata": {},
          "execution_count": 94
        },
        {
          "output_type": "display_data",
          "data": {
            "text/plain": [
              "<Figure size 720x576 with 1 Axes>"
            ],
            "image/png": "[encoded data removed]"
          },
          "metadata": {}
        }
      ],
      "source": [
        "data['TechSupport'].value_counts().plot.pie(autopct='%1.1f%%',figsize=(10,8));\n",
        "plt.title(\"% of TechSupport\")"
      ]
    },
    {
      "cell_type": "code",
      "execution_count": null,
      "id": "cd596d53",
      "metadata": {
        "colab": {
          "base_uri": "https://localhost:8080/",
          "height": 514
        },
        "id": "cd596d53",
        "outputId": "2e45349b-0993-4e25-afdc-bc50337e0318"
      },
      "outputs": [
        {
          "output_type": "execute_result",
          "data": {
            "text/plain": [
              "<matplotlib.axes._subplots.AxesSubplot at 0x7f9d40a47810>"
            ]
          },
          "metadata": {},
          "execution_count": 95
        },
        {
          "output_type": "display_data",
          "data": {
            "text/plain": [
              "<Figure size 720x576 with 1 Axes>"
            ],
            "image/png": "[encoded data removed]"
          },
          "metadata": {
            "needs_background": "light"
          }
        }
      ],
      "source": [
        "plt.figure(figsize=(10,8))\n",
        "sns.countplot(\"Churn\", data=data,hue=(\"TechSupport\"))"
      ]
    },
    {
      "cell_type": "markdown",
      "id": "a317f36b",
      "metadata": {
        "id": "a317f36b"
      },
      "source": [
        "Customers with no TechSupport are most likely to migrate to another service provider."
      ]
    },
    {
      "cell_type": "markdown",
      "id": "82d7afc5",
      "metadata": {
        "id": "82d7afc5"
      },
      "source": [
        "### Phone Service Distribution"
      ]
    },
    {
      "cell_type": "code",
      "execution_count": null,
      "id": "472c94fb",
      "metadata": {
        "colab": {
          "base_uri": "https://localhost:8080/",
          "height": 499
        },
        "id": "472c94fb",
        "outputId": "32829bed-2be2-450c-dcf8-42696f8dd7bf"
      },
      "outputs": [
        {
          "output_type": "execute_result",
          "data": {
            "text/plain": [
              "Text(0.5, 1.0, '% of PhoneService')"
            ]
          },
          "metadata": {},
          "execution_count": 96
        },
        {
          "output_type": "display_data",
          "data": {
            "text/plain": [
              "<Figure size 720x576 with 1 Axes>"
            ],
            "image/png": "[encoded data removed]"
          },
          "metadata": {}
        }
      ],
      "source": [
        "data['PhoneService'].value_counts().plot.pie(autopct='%1.1f%%',figsize=(10,8));\n",
        "plt.title(\"% of PhoneService\")"
      ]
    },
    {
      "cell_type": "code",
      "execution_count": null,
      "id": "ff39b9b8",
      "metadata": {
        "colab": {
          "base_uri": "https://localhost:8080/",
          "height": 514
        },
        "id": "ff39b9b8",
        "outputId": "c2bc82ef-7622-4d78-9f26-928dc2b3b0a6"
      },
      "outputs": [
        {
          "output_type": "execute_result",
          "data": {
            "text/plain": [
              "<matplotlib.axes._subplots.AxesSubplot at 0x7f9d3f8d9a10>"
            ]
          },
          "metadata": {},
          "execution_count": 97
        },
        {
          "output_type": "display_data",
          "data": {
            "text/plain": [
              "<Figure size 720x576 with 1 Axes>"
            ],
            "image/png": "[encoded data removed]"
          },
          "metadata": {
            "needs_background": "light"
          }
        }
      ],
      "source": [
        "plt.figure(figsize=(10,8))\n",
        "sns.countplot(\"Churn\", data=data,hue=(\"PhoneService\"))"
      ]
    },
    {
      "cell_type": "markdown",
      "id": "1db2c05d",
      "metadata": {
        "id": "1db2c05d"
      },
      "source": [
        "Very small fraction of customers don't have a phone service."
      ]
    },
    {
      "cell_type": "markdown",
      "id": "aff7a9bd",
      "metadata": {
        "id": "aff7a9bd"
      },
      "source": [
        "We can now observe that the column TotalCharges has 11 missing values."
      ]
    },
    {
      "cell_type": "markdown",
      "id": "8edfdee3",
      "metadata": {
        "id": "8edfdee3"
      },
      "source": [
        "## Outlier Detection"
      ]
    },
    {
      "cell_type": "markdown",
      "id": "182e7444",
      "metadata": {
        "id": "182e7444"
      },
      "source": [
        "The presence of outliers in a classification or regression dataset can result in a poor fit and lower predictive modeling performance, therefore we should see there are ouliers in the data."
      ]
    },
    {
      "cell_type": "code",
      "execution_count": null,
      "id": "e156c049",
      "metadata": {
        "id": "e156c049"
      },
      "outputs": [],
      "source": [
        "data=data.drop(labels=['customerID'],axis=1)"
      ]
    },
    {
      "cell_type": "code",
      "execution_count": null,
      "id": "5d122613",
      "metadata": {
        "id": "5d122613"
      },
      "outputs": [],
      "source": [
        "data['TotalCharges'] = pd.to_numeric(data['TotalCharges'], errors='coerce')"
      ]
    },
    {
      "cell_type": "code",
      "execution_count": null,
      "id": "e6bfef8c",
      "metadata": {
        "id": "e6bfef8c"
      },
      "outputs": [],
      "source": [
        "num_data=data.select_dtypes(include=['float64','int64']).columns"
      ]
    },
    {
      "cell_type": "code",
      "execution_count": null,
      "id": "8557e679",
      "metadata": {
        "id": "8557e679"
      },
      "outputs": [],
      "source": [
        "num_data=num_data.drop('SeniorCitizen')"
      ]
    },
    {
      "cell_type": "code",
      "execution_count": null,
      "id": "017182fc",
      "metadata": {
        "colab": {
          "base_uri": "https://localhost:8080/",
          "height": 377
        },
        "id": "017182fc",
        "outputId": "64b35c9f-95e5-487e-dc2d-fab40ecd06f1"
      },
      "outputs": [
        {
          "output_type": "execute_result",
          "data": {
            "text/plain": [
              "Text(0.5, 0.98, 'Box Plot of continuous variables')"
            ]
          },
          "metadata": {},
          "execution_count": 102
        },
        {
          "output_type": "display_data",
          "data": {
            "text/plain": [
              "<Figure size 1296x1296 with 3 Axes>"
            ],
            "image/png": "[encoded data removed]"
          },
          "metadata": {
            "needs_background": "light"
          }
        }
      ],
      "source": [
        "plt.figure(figsize=(18, 18))\n",
        "for i, col in enumerate(num_data):\n",
        "    plt.rcParams['axes.facecolor'] = 'black'\n",
        "    ax = plt.subplot(5,4, i+1)\n",
        "    sns.boxplot(data=data, x=col)\n",
        "plt.suptitle('Box Plot of continuous variables')\n"
      ]
    },
    {
      "cell_type": "markdown",
      "id": "89dbd2de",
      "metadata": {
        "id": "89dbd2de"
      },
      "source": [
        "There is no outlier."
      ]
    },
    {
      "cell_type": "markdown",
      "id": "4d705cb1",
      "metadata": {
        "id": "4d705cb1"
      },
      "source": [
        "## Missing value Detection"
      ]
    },
    {
      "cell_type": "code",
      "execution_count": null,
      "id": "80ad6bac",
      "metadata": {
        "scrolled": true,
        "colab": {
          "base_uri": "https://localhost:8080/"
        },
        "id": "80ad6bac",
        "outputId": "b411599e-355c-4ddf-b2ff-397614aa99ae"
      },
      "outputs": [
        {
          "output_type": "execute_result",
          "data": {
            "text/plain": [
              "gender               0\n",
              "SeniorCitizen        0\n",
              "Partner              0\n",
              "Dependents           0\n",
              "tenure               0\n",
              "PhoneService         0\n",
              "MultipleLines        0\n",
              "InternetService      0\n",
              "OnlineSecurity       0\n",
              "OnlineBackup         0\n",
              "DeviceProtection     0\n",
              "TechSupport          0\n",
              "StreamingTV          0\n",
              "StreamingMovies      0\n",
              "Contract             0\n",
              "PaperlessBilling     0\n",
              "PaymentMethod        0\n",
              "MonthlyCharges       0\n",
              "TotalCharges        11\n",
              "Churn                0\n",
              "dtype: int64"
            ]
          },
          "metadata": {},
          "execution_count": 103
        }
      ],
      "source": [
        "data.isnull().sum()"
      ]
    },
    {
      "cell_type": "markdown",
      "id": "c60c9496",
      "metadata": {
        "id": "c60c9496"
      },
      "source": [
        "We can now observe that the column TotalCharges has 11 missing values."
      ]
    },
    {
      "cell_type": "code",
      "execution_count": null,
      "id": "414ee107",
      "metadata": {
        "id": "414ee107"
      },
      "outputs": [],
      "source": [
        "# drop observations with null values\n",
        "data.dropna(inplace=True)"
      ]
    },
    {
      "cell_type": "markdown",
      "id": "3b1dc693",
      "metadata": {
        "id": "3b1dc693"
      },
      "source": [
        " ## Categorical Variables Encoding   "
      ]
    },
    {
      "cell_type": "code",
      "execution_count": null,
      "id": "bd30d245",
      "metadata": {
        "id": "bd30d245"
      },
      "outputs": [],
      "source": [
        "data['Churn'] = data['Churn'].map({'Yes':1,'No':0})"
      ]
    },
    {
      "cell_type": "markdown",
      "id": "3f569fb3",
      "metadata": {
        "id": "3f569fb3"
      },
      "source": [
        "We use Target guided ordinal encoding. Ordering the categories according to the target means assigning a number to the category, but this numbering, this ordering, is informed by the mean of the target within the category. Briefly, we calculate the mean of the target for each label/category, then we order the labels according to these mean from smallest to biggest, and we number them accordingly."
      ]
    },
    {
      "cell_type": "code",
      "execution_count": null,
      "id": "355c6044",
      "metadata": {
        "id": "355c6044"
      },
      "outputs": [],
      "source": [
        "categorical = [var for var in data.columns if data[var].dtype=='O']"
      ]
    },
    {
      "cell_type": "code",
      "execution_count": null,
      "id": "fb8d4387",
      "metadata": {
        "id": "fb8d4387"
      },
      "outputs": [],
      "source": [
        "def category(df):\n",
        "    for var in categorical:\n",
        "        ordered_labels = df.groupby([var])['Churn'].mean().sort_values().index\n",
        "\n",
        "        ordinal_label = {k:i for i, k in enumerate(ordered_labels, 0)} \n",
        "        ordinal_label\n",
        "        df[var] = df[var].map(ordinal_label)\n",
        "\n",
        "category(data)"
      ]
    },
    {
      "cell_type": "code",
      "execution_count": null,
      "id": "ade30568",
      "metadata": {
        "colab": {
          "base_uri": "https://localhost:8080/",
          "height": 270
        },
        "id": "ade30568",
        "outputId": "05928f03-eb2b-4daa-e0c9-159a2cd404b8"
      },
      "outputs": [
        {
          "output_type": "execute_result",
          "data": {
            "text/plain": [
              "   gender  SeniorCitizen  Partner  Dependents  tenure  PhoneService  \\\n",
              "0       1              0        0           1       1             0   \n",
              "1       0              0        1           1      34             1   \n",
              "2       0              0        1           1       2             1   \n",
              "3       0              0        1           1      45             0   \n",
              "4       1              0        1           1       2             1   \n",
              "\n",
              "   MultipleLines  InternetService  OnlineSecurity  OnlineBackup  \\\n",
              "0              0                1               2             1   \n",
              "1              1                1               1             2   \n",
              "2              1                1               1             1   \n",
              "3              0                1               1             2   \n",
              "4              1                2               2             2   \n",
              "\n",
              "   DeviceProtection  TechSupport  StreamingTV  StreamingMovies  Contract  \\\n",
              "0                 2            2            2                2         2   \n",
              "1                 1            2            2                2         1   \n",
              "2                 2            2            2                2         2   \n",
              "3                 1            1            2                2         1   \n",
              "4                 2            2            2                2         2   \n",
              "\n",
              "   PaperlessBilling  PaymentMethod  MonthlyCharges  TotalCharges  Churn  \n",
              "0                 1              3           29.85         29.85      0  \n",
              "1                 0              2           56.95       1889.50      0  \n",
              "2                 1              2           53.85        108.15      1  \n",
              "3                 0              1           42.30       1840.75      0  \n",
              "4                 1              3           70.70        151.65      1  "
            ],
            "text/html": [
              "\n",
              "  <div id=\"df-d7d9941b-c81f-4471-846c-90c69b4ac449\">\n",
              "    <div class=\"colab-df-container\">\n",
              "      <div>\n",
              "<style scoped>\n",
              "    .dataframe tbody tr th:only-of-type {\n",
              "        vertical-align: middle;\n",
              "    }\n",
              "\n",
              "    .dataframe tbody tr th {\n",
              "        vertical-align: top;\n",
              "    }\n",
              "\n",
              "    .dataframe thead th {\n",
              "        text-align: right;\n",
              "    }\n",
              "</style>\n",
              "<table border=\"1\" class=\"dataframe\">\n",
              "  <thead>\n",
              "    <tr style=\"text-align: right;\">\n",
              "      <th></th>\n",
              "      <th>gender</th>\n",
              "      <th>SeniorCitizen</th>\n",
              "      <th>Partner</th>\n",
              "      <th>Dependents</th>\n",
              "      <th>tenure</th>\n",
              "      <th>PhoneService</th>\n",
              "      <th>MultipleLines</th>\n",
              "      <th>InternetService</th>\n",
              "      <th>OnlineSecurity</th>\n",
              "      <th>OnlineBackup</th>\n",
              "      <th>DeviceProtection</th>\n",
              "      <th>TechSupport</th>\n",
              "      <th>StreamingTV</th>\n",
              "      <th>StreamingMovies</th>\n",
              "      <th>Contract</th>\n",
              "      <th>PaperlessBilling</th>\n",
              "      <th>PaymentMethod</th>\n",
              "      <th>MonthlyCharges</th>\n",
              "      <th>TotalCharges</th>\n",
              "      <th>Churn</th>\n",
              "    </tr>\n",
              "  </thead>\n",
              "  <tbody>\n",
              "    <tr>\n",
              "      <th>0</th>\n",
              "      <td>1</td>\n",
              "      <td>0</td>\n",
              "      <td>0</td>\n",
              "      <td>1</td>\n",
              "      <td>1</td>\n",
              "      <td>0</td>\n",
              "      <td>0</td>\n",
              "      <td>1</td>\n",
              "      <td>2</td>\n",
              "      <td>1</td>\n",
              "      <td>2</td>\n",
              "      <td>2</td>\n",
              "      <td>2</td>\n",
              "      <td>2</td>\n",
              "      <td>2</td>\n",
              "      <td>1</td>\n",
              "      <td>3</td>\n",
              "      <td>29.85</td>\n",
              "      <td>29.85</td>\n",
              "      <td>0</td>\n",
              "    </tr>\n",
              "    <tr>\n",
              "      <th>1</th>\n",
              "      <td>0</td>\n",
              "      <td>0</td>\n",
              "      <td>1</td>\n",
              "      <td>1</td>\n",
              "      <td>34</td>\n",
              "      <td>1</td>\n",
              "      <td>1</td>\n",
              "      <td>1</td>\n",
              "      <td>1</td>\n",
              "      <td>2</td>\n",
              "      <td>1</td>\n",
              "      <td>2</td>\n",
              "      <td>2</td>\n",
              "      <td>2</td>\n",
              "      <td>1</td>\n",
              "      <td>0</td>\n",
              "      <td>2</td>\n",
              "      <td>56.95</td>\n",
              "      <td>1889.50</td>\n",
              "      <td>0</td>\n",
              "    </tr>\n",
              "    <tr>\n",
              "      <th>2</th>\n",
              "      <td>0</td>\n",
              "      <td>0</td>\n",
              "      <td>1</td>\n",
              "      <td>1</td>\n",
              "      <td>2</td>\n",
              "      <td>1</td>\n",
              "      <td>1</td>\n",
              "      <td>1</td>\n",
              "      <td>1</td>\n",
              "      <td>1</td>\n",
              "      <td>2</td>\n",
              "      <td>2</td>\n",
              "      <td>2</td>\n",
              "      <td>2</td>\n",
              "      <td>2</td>\n",
              "      <td>1</td>\n",
              "      <td>2</td>\n",
              "      <td>53.85</td>\n",
              "      <td>108.15</td>\n",
              "      <td>1</td>\n",
              "    </tr>\n",
              "    <tr>\n",
              "      <th>3</th>\n",
              "      <td>0</td>\n",
              "      <td>0</td>\n",
              "      <td>1</td>\n",
              "      <td>1</td>\n",
              "      <td>45</td>\n",
              "      <td>0</td>\n",
              "      <td>0</td>\n",
              "      <td>1</td>\n",
              "      <td>1</td>\n",
              "      <td>2</td>\n",
              "      <td>1</td>\n",
              "      <td>1</td>\n",
              "      <td>2</td>\n",
              "      <td>2</td>\n",
              "      <td>1</td>\n",
              "      <td>0</td>\n",
              "      <td>1</td>\n",
              "      <td>42.30</td>\n",
              "      <td>1840.75</td>\n",
              "      <td>0</td>\n",
              "    </tr>\n",
              "    <tr>\n",
              "      <th>4</th>\n",
              "      <td>1</td>\n",
              "      <td>0</td>\n",
              "      <td>1</td>\n",
              "      <td>1</td>\n",
              "      <td>2</td>\n",
              "      <td>1</td>\n",
              "      <td>1</td>\n",
              "      <td>2</td>\n",
              "      <td>2</td>\n",
              "      <td>2</td>\n",
              "      <td>2</td>\n",
              "      <td>2</td>\n",
              "      <td>2</td>\n",
              "      <td>2</td>\n",
              "      <td>2</td>\n",
              "      <td>1</td>\n",
              "      <td>3</td>\n",
              "      <td>70.70</td>\n",
              "      <td>151.65</td>\n",
              "      <td>1</td>\n",
              "    </tr>\n",
              "  </tbody>\n",
              "</table>\n",
              "</div>\n",
              "      <button class=\"colab-df-convert\" onclick=\"convertToInteractive('df-d7d9941b-c81f-4471-846c-90c69b4ac449')\"\n",
              "              title=\"Convert this dataframe to an interactive table.\"\n",
              "              style=\"display:none;\">\n",
              "        \n",
              "  <svg xmlns=\"http://www.w3.org/2000/svg\" height=\"24px\"viewBox=\"0 0 24 24\"\n",
              "       width=\"24px\">\n",
              "    <path d=\"M0 0h24v24H0V0z\" fill=\"none\"/>\n",
              "    <path d=\"M18.56 5.44l.94 2.06.94-2.06 2.06-.94-2.06-.94-.94-2.06-.94 2.06-2.06.94zm-11 1L8.5 8.5l.94-2.06 2.06-.94-2.06-.94L8.5 2.5l-.94 2.06-2.06.94zm10 10l.94 2.06.94-2.06 2.06-.94-2.06-.94-.94-2.06-.94 2.06-2.06.94z\"/><path d=\"M17.41 7.96l-1.37-1.37c-.4-.4-.92-.59-1.43-.59-.52 0-1.04.2-1.43.59L10.3 9.45l-7.72 7.72c-.78.78-.78 2.05 0 2.83L4 21.41c.39.39.9.59 1.41.59.51 0 1.02-.2 1.41-.59l7.78-7.78 2.81-2.81c.8-.78.8-2.07 0-2.86zM5.41 20L4 18.59l7.72-7.72 1.47 1.35L5.41 20z\"/>\n",
              "  </svg>\n",
              "      </button>\n",
              "      \n",
              "  <style>\n",
              "    .colab-df-container {\n",
              "      display:flex;\n",
              "      flex-wrap:wrap;\n",
              "      gap: 12px;\n",
              "    }\n",
              "\n",
              "    .colab-df-convert {\n",
              "      background-color: #E8F0FE;\n",
              "      border: none;\n",
              "      border-radius: 50%;\n",
              "      cursor: pointer;\n",
              "      display: none;\n",
              "      fill: #1967D2;\n",
              "      height: 32px;\n",
              "      padding: 0 0 0 0;\n",
              "      width: 32px;\n",
              "    }\n",
              "\n",
              "    .colab-df-convert:hover {\n",
              "      background-color: #E2EBFA;\n",
              "      box-shadow: 0px 1px 2px rgba(60, 64, 67, 0.3), 0px 1px 3px 1px rgba(60, 64, 67, 0.15);\n",
              "      fill: #174EA6;\n",
              "    }\n",
              "\n",
              "    [theme=dark] .colab-df-convert {\n",
              "      background-color: #3B4455;\n",
              "      fill: #D2E3FC;\n",
              "    }\n",
              "\n",
              "    [theme=dark] .colab-df-convert:hover {\n",
              "      background-color: #434B5C;\n",
              "      box-shadow: 0px 1px 3px 1px rgba(0, 0, 0, 0.15);\n",
              "      filter: drop-shadow(0px 1px 2px rgba(0, 0, 0, 0.3));\n",
              "      fill: #FFFFFF;\n",
              "    }\n",
              "  </style>\n",
              "\n",
              "      <script>\n",
              "        const buttonEl =\n",
              "          document.querySelector('#df-d7d9941b-c81f-4471-846c-90c69b4ac449 button.colab-df-convert');\n",
              "        buttonEl.style.display =\n",
              "          google.colab.kernel.accessAllowed ? 'block' : 'none';\n",
              "\n",
              "        async function convertToInteractive(key) {\n",
              "          const element = document.querySelector('#df-d7d9941b-c81f-4471-846c-90c69b4ac449');\n",
              "          const dataTable =\n",
              "            await google.colab.kernel.invokeFunction('convertToInteractive',\n",
              "                                                     [key], {});\n",
              "          if (!dataTable) return;\n",
              "\n",
              "          const docLinkHtml = 'Like what you see? Visit the ' +\n",
              "            '<a target=\"_blank\" href=https://colab.research.google.com/notebooks/data_table.ipynb>data table notebook</a>'\n",
              "            + ' to learn more about interactive tables.';\n",
              "          element.innerHTML = '';\n",
              "          dataTable['output_type'] = 'display_data';\n",
              "          await google.colab.output.renderOutput(dataTable, element);\n",
              "          const docLink = document.createElement('div');\n",
              "          docLink.innerHTML = docLinkHtml;\n",
              "          element.appendChild(docLink);\n",
              "        }\n",
              "      </script>\n",
              "    </div>\n",
              "  </div>\n",
              "  "
            ]
          },
          "metadata": {},
          "execution_count": 108
        }
      ],
      "source": [
        "data.head(5)"
      ]
    },
    {
      "cell_type": "markdown",
      "id": "fb0546fe",
      "metadata": {
        "id": "fb0546fe"
      },
      "source": [
        "## Balance Data"
      ]
    },
    {
      "cell_type": "code",
      "execution_count": null,
      "id": "0dcf49ed",
      "metadata": {
        "colab": {
          "base_uri": "https://localhost:8080/",
          "height": 514
        },
        "id": "0dcf49ed",
        "outputId": "a15e9e0b-9d76-48ce-85c7-c0c9fc25d9aa"
      },
      "outputs": [
        {
          "output_type": "execute_result",
          "data": {
            "text/plain": [
              "<matplotlib.axes._subplots.AxesSubplot at 0x7f9d3fdeca90>"
            ]
          },
          "metadata": {},
          "execution_count": 109
        },
        {
          "output_type": "display_data",
          "data": {
            "text/plain": [
              "<Figure size 720x576 with 1 Axes>"
            ],
            "image/png": "[encoded data removed]"
          },
          "metadata": {
            "needs_background": "light"
          }
        }
      ],
      "source": [
        "plt.figure(figsize=(10,8))\n",
        "sns.countplot(\"Churn\", data=data)"
      ]
    },
    {
      "cell_type": "markdown",
      "id": "e0c39e5a",
      "metadata": {
        "id": "e0c39e5a"
      },
      "source": [
        "As shown in the plot above, we are dealing with an imbalanced dataset. The SMOTE method is used which oversamples just those difficult instances, providing more resolution only where it may be required."
      ]
    },
    {
      "cell_type": "code",
      "execution_count": null,
      "id": "073d9c9d",
      "metadata": {
        "id": "073d9c9d"
      },
      "outputs": [],
      "source": [
        "x= data.drop(['Churn'], axis = 1)\n",
        "y = data['Churn']\n",
        "oversample = SMOTE()\n",
        "x, y = oversample.fit_resample(x, y)"
      ]
    },
    {
      "cell_type": "code",
      "execution_count": null,
      "id": "24c9e334",
      "metadata": {
        "colab": {
          "base_uri": "https://localhost:8080/"
        },
        "id": "24c9e334",
        "outputId": "873b5589-92f2-4a0f-f5f7-b80e3f71a855"
      },
      "outputs": [
        {
          "output_type": "execute_result",
          "data": {
            "text/plain": [
              "gender              0\n",
              "SeniorCitizen       0\n",
              "Partner             0\n",
              "Dependents          0\n",
              "tenure              0\n",
              "PhoneService        0\n",
              "MultipleLines       0\n",
              "InternetService     0\n",
              "OnlineSecurity      0\n",
              "OnlineBackup        0\n",
              "DeviceProtection    0\n",
              "TechSupport         0\n",
              "StreamingTV         0\n",
              "StreamingMovies     0\n",
              "Contract            0\n",
              "PaperlessBilling    0\n",
              "PaymentMethod       0\n",
              "MonthlyCharges      0\n",
              "TotalCharges        0\n",
              "dtype: int64"
            ]
          },
          "metadata": {},
          "execution_count": 111
        }
      ],
      "source": [
        "x.isnull().sum()"
      ]
    },
    {
      "cell_type": "markdown",
      "id": "2852634d",
      "metadata": {
        "id": "2852634d"
      },
      "source": [
        "## Dataset Splitting\n"
      ]
    },
    {
      "cell_type": "code",
      "execution_count": null,
      "id": "37c425a4",
      "metadata": {
        "colab": {
          "base_uri": "https://localhost:8080/"
        },
        "id": "37c425a4",
        "outputId": "aa8adb7e-68cd-4990-86c5-36e40e52885d"
      },
      "outputs": [
        {
          "output_type": "execute_result",
          "data": {
            "text/plain": [
              "((8260, 19), (2066, 19))"
            ]
          },
          "metadata": {},
          "execution_count": 112
        }
      ],
      "source": [
        "x_train, x_test, y_train, y_test = train_test_split(x, y, test_size=0.2, random_state=42)\n",
        "x_train.shape, x_test.shape"
      ]
    },
    {
      "cell_type": "markdown",
      "id": "faa2bd62",
      "metadata": {
        "id": "faa2bd62"
      },
      "source": [
        "## Feature Scaling"
      ]
    },
    {
      "cell_type": "markdown",
      "id": "dbfcadb9",
      "metadata": {
        "id": "dbfcadb9"
      },
      "source": [
        "Data Normalization is transforming numeric columns to a common scale.Some feature values differ from others multiple times. The features with higher values will dominate the learning process .After normalization, all variables have a similar influence on the model, improving the stability and performance of the learning algorithm."
      ]
    },
    {
      "cell_type": "markdown",
      "id": "168235dc",
      "metadata": {
        "id": "168235dc"
      },
      "source": [
        "There are multiple normalization techniques in statistics. In this project, i use the min-max method to rescale the numeric columns (tenure, MontlyCharges, and TotalCharges) to a common scale. The min-max approach (often called normalization) rescales the feature to a fixed range of [0,1] by subtracting the minimum value of the feature and then dividing by the range."
      ]
    },
    {
      "cell_type": "code",
      "execution_count": null,
      "id": "2c02793d",
      "metadata": {
        "id": "2c02793d"
      },
      "outputs": [],
      "source": [
        "# min-max normalization (numeric variables)\n",
        "min_max_columns = ['tenure', 'MonthlyCharges', 'TotalCharges']\n",
        "\n",
        "# scale numerical variables using min max scaler\n",
        "for column in min_max_columns:\n",
        "        # minimum value of the column\n",
        "        min_column = data[column].min()\n",
        "        # maximum value of the column\n",
        "        max_column = data[column].max()\n",
        "        # min max scaler\n",
        "        data[column] = (data[column] - min_column) / (max_column - min_column)"
      ]
    },
    {
      "cell_type": "code",
      "execution_count": null,
      "id": "0e5dfcab",
      "metadata": {
        "colab": {
          "base_uri": "https://localhost:8080/",
          "height": 270
        },
        "id": "0e5dfcab",
        "outputId": "f91c0627-395c-4288-85d9-fe5753353f29"
      },
      "outputs": [
        {
          "output_type": "execute_result",
          "data": {
            "text/plain": [
              "   gender  SeniorCitizen  Partner  Dependents    tenure  PhoneService  \\\n",
              "0       1              0        0           1  0.000000             0   \n",
              "1       0              0        1           1  0.464789             1   \n",
              "2       0              0        1           1  0.014085             1   \n",
              "3       0              0        1           1  0.619718             0   \n",
              "4       1              0        1           1  0.014085             1   \n",
              "\n",
              "   MultipleLines  InternetService  OnlineSecurity  OnlineBackup  \\\n",
              "0              0                1               2             1   \n",
              "1              1                1               1             2   \n",
              "2              1                1               1             1   \n",
              "3              0                1               1             2   \n",
              "4              1                2               2             2   \n",
              "\n",
              "   DeviceProtection  TechSupport  StreamingTV  StreamingMovies  Contract  \\\n",
              "0                 2            2            2                2         2   \n",
              "1                 1            2            2                2         1   \n",
              "2                 2            2            2                2         2   \n",
              "3                 1            1            2                2         1   \n",
              "4                 2            2            2                2         2   \n",
              "\n",
              "   PaperlessBilling  PaymentMethod  MonthlyCharges  TotalCharges  Churn  \n",
              "0                 1              3        0.115423      0.001275      0  \n",
              "1                 0              2        0.385075      0.215867      0  \n",
              "2                 1              2        0.354229      0.010310      1  \n",
              "3                 0              1        0.239303      0.210241      0  \n",
              "4                 1              3        0.521891      0.015330      1  "
            ],
            "text/html": [
              "\n",
              "  <div id=\"df-c87aeb57-5cbe-40d5-8c28-1b8cdf10583d\">\n",
              "    <div class=\"colab-df-container\">\n",
              "      <div>\n",
              "<style scoped>\n",
              "    .dataframe tbody tr th:only-of-type {\n",
              "        vertical-align: middle;\n",
              "    }\n",
              "\n",
              "    .dataframe tbody tr th {\n",
              "        vertical-align: top;\n",
              "    }\n",
              "\n",
              "    .dataframe thead th {\n",
              "        text-align: right;\n",
              "    }\n",
              "</style>\n",
              "<table border=\"1\" class=\"dataframe\">\n",
              "  <thead>\n",
              "    <tr style=\"text-align: right;\">\n",
              "      <th></th>\n",
              "      <th>gender</th>\n",
              "      <th>SeniorCitizen</th>\n",
              "      <th>Partner</th>\n",
              "      <th>Dependents</th>\n",
              "      <th>tenure</th>\n",
              "      <th>PhoneService</th>\n",
              "      <th>MultipleLines</th>\n",
              "      <th>InternetService</th>\n",
              "      <th>OnlineSecurity</th>\n",
              "      <th>OnlineBackup</th>\n",
              "      <th>DeviceProtection</th>\n",
              "      <th>TechSupport</th>\n",
              "      <th>StreamingTV</th>\n",
              "      <th>StreamingMovies</th>\n",
              "      <th>Contract</th>\n",
              "      <th>PaperlessBilling</th>\n",
              "      <th>PaymentMethod</th>\n",
              "      <th>MonthlyCharges</th>\n",
              "      <th>TotalCharges</th>\n",
              "      <th>Churn</th>\n",
              "    </tr>\n",
              "  </thead>\n",
              "  <tbody>\n",
              "    <tr>\n",
              "      <th>0</th>\n",
              "      <td>1</td>\n",
              "      <td>0</td>\n",
              "      <td>0</td>\n",
              "      <td>1</td>\n",
              "      <td>0.000000</td>\n",
              "      <td>0</td>\n",
              "      <td>0</td>\n",
              "      <td>1</td>\n",
              "      <td>2</td>\n",
              "      <td>1</td>\n",
              "      <td>2</td>\n",
              "      <td>2</td>\n",
              "      <td>2</td>\n",
              "      <td>2</td>\n",
              "      <td>2</td>\n",
              "      <td>1</td>\n",
              "      <td>3</td>\n",
              "      <td>0.115423</td>\n",
              "      <td>0.001275</td>\n",
              "      <td>0</td>\n",
              "    </tr>\n",
              "    <tr>\n",
              "      <th>1</th>\n",
              "      <td>0</td>\n",
              "      <td>0</td>\n",
              "      <td>1</td>\n",
              "      <td>1</td>\n",
              "      <td>0.464789</td>\n",
              "      <td>1</td>\n",
              "      <td>1</td>\n",
              "      <td>1</td>\n",
              "      <td>1</td>\n",
              "      <td>2</td>\n",
              "      <td>1</td>\n",
              "      <td>2</td>\n",
              "      <td>2</td>\n",
              "      <td>2</td>\n",
              "      <td>1</td>\n",
              "      <td>0</td>\n",
              "      <td>2</td>\n",
              "      <td>0.385075</td>\n",
              "      <td>0.215867</td>\n",
              "      <td>0</td>\n",
              "    </tr>\n",
              "    <tr>\n",
              "      <th>2</th>\n",
              "      <td>0</td>\n",
              "      <td>0</td>\n",
              "      <td>1</td>\n",
              "      <td>1</td>\n",
              "      <td>0.014085</td>\n",
              "      <td>1</td>\n",
              "      <td>1</td>\n",
              "      <td>1</td>\n",
              "      <td>1</td>\n",
              "      <td>1</td>\n",
              "      <td>2</td>\n",
              "      <td>2</td>\n",
              "      <td>2</td>\n",
              "      <td>2</td>\n",
              "      <td>2</td>\n",
              "      <td>1</td>\n",
              "      <td>2</td>\n",
              "      <td>0.354229</td>\n",
              "      <td>0.010310</td>\n",
              "      <td>1</td>\n",
              "    </tr>\n",
              "    <tr>\n",
              "      <th>3</th>\n",
              "      <td>0</td>\n",
              "      <td>0</td>\n",
              "      <td>1</td>\n",
              "      <td>1</td>\n",
              "      <td>0.619718</td>\n",
              "      <td>0</td>\n",
              "      <td>0</td>\n",
              "      <td>1</td>\n",
              "      <td>1</td>\n",
              "      <td>2</td>\n",
              "      <td>1</td>\n",
              "      <td>1</td>\n",
              "      <td>2</td>\n",
              "      <td>2</td>\n",
              "      <td>1</td>\n",
              "      <td>0</td>\n",
              "      <td>1</td>\n",
              "      <td>0.239303</td>\n",
              "      <td>0.210241</td>\n",
              "      <td>0</td>\n",
              "    </tr>\n",
              "    <tr>\n",
              "      <th>4</th>\n",
              "      <td>1</td>\n",
              "      <td>0</td>\n",
              "      <td>1</td>\n",
              "      <td>1</td>\n",
              "      <td>0.014085</td>\n",
              "      <td>1</td>\n",
              "      <td>1</td>\n",
              "      <td>2</td>\n",
              "      <td>2</td>\n",
              "      <td>2</td>\n",
              "      <td>2</td>\n",
              "      <td>2</td>\n",
              "      <td>2</td>\n",
              "      <td>2</td>\n",
              "      <td>2</td>\n",
              "      <td>1</td>\n",
              "      <td>3</td>\n",
              "      <td>0.521891</td>\n",
              "      <td>0.015330</td>\n",
              "      <td>1</td>\n",
              "    </tr>\n",
              "  </tbody>\n",
              "</table>\n",
              "</div>\n",
              "      <button class=\"colab-df-convert\" onclick=\"convertToInteractive('df-c87aeb57-5cbe-40d5-8c28-1b8cdf10583d')\"\n",
              "              title=\"Convert this dataframe to an interactive table.\"\n",
              "              style=\"display:none;\">\n",
              "        \n",
              "  <svg xmlns=\"http://www.w3.org/2000/svg\" height=\"24px\"viewBox=\"0 0 24 24\"\n",
              "       width=\"24px\">\n",
              "    <path d=\"M0 0h24v24H0V0z\" fill=\"none\"/>\n",
              "    <path d=\"M18.56 5.44l.94 2.06.94-2.06 2.06-.94-2.06-.94-.94-2.06-.94 2.06-2.06.94zm-11 1L8.5 8.5l.94-2.06 2.06-.94-2.06-.94L8.5 2.5l-.94 2.06-2.06.94zm10 10l.94 2.06.94-2.06 2.06-.94-2.06-.94-.94-2.06-.94 2.06-2.06.94z\"/><path d=\"M17.41 7.96l-1.37-1.37c-.4-.4-.92-.59-1.43-.59-.52 0-1.04.2-1.43.59L10.3 9.45l-7.72 7.72c-.78.78-.78 2.05 0 2.83L4 21.41c.39.39.9.59 1.41.59.51 0 1.02-.2 1.41-.59l7.78-7.78 2.81-2.81c.8-.78.8-2.07 0-2.86zM5.41 20L4 18.59l7.72-7.72 1.47 1.35L5.41 20z\"/>\n",
              "  </svg>\n",
              "      </button>\n",
              "      \n",
              "  <style>\n",
              "    .colab-df-container {\n",
              "      display:flex;\n",
              "      flex-wrap:wrap;\n",
              "      gap: 12px;\n",
              "    }\n",
              "\n",
              "    .colab-df-convert {\n",
              "      background-color: #E8F0FE;\n",
              "      border: none;\n",
              "      border-radius: 50%;\n",
              "      cursor: pointer;\n",
              "      display: none;\n",
              "      fill: #1967D2;\n",
              "      height: 32px;\n",
              "      padding: 0 0 0 0;\n",
              "      width: 32px;\n",
              "    }\n",
              "\n",
              "    .colab-df-convert:hover {\n",
              "      background-color: #E2EBFA;\n",
              "      box-shadow: 0px 1px 2px rgba(60, 64, 67, 0.3), 0px 1px 3px 1px rgba(60, 64, 67, 0.15);\n",
              "      fill: #174EA6;\n",
              "    }\n",
              "\n",
              "    [theme=dark] .colab-df-convert {\n",
              "      background-color: #3B4455;\n",
              "      fill: #D2E3FC;\n",
              "    }\n",
              "\n",
              "    [theme=dark] .colab-df-convert:hover {\n",
              "      background-color: #434B5C;\n",
              "      box-shadow: 0px 1px 3px 1px rgba(0, 0, 0, 0.15);\n",
              "      filter: drop-shadow(0px 1px 2px rgba(0, 0, 0, 0.3));\n",
              "      fill: #FFFFFF;\n",
              "    }\n",
              "  </style>\n",
              "\n",
              "      <script>\n",
              "        const buttonEl =\n",
              "          document.querySelector('#df-c87aeb57-5cbe-40d5-8c28-1b8cdf10583d button.colab-df-convert');\n",
              "        buttonEl.style.display =\n",
              "          google.colab.kernel.accessAllowed ? 'block' : 'none';\n",
              "\n",
              "        async function convertToInteractive(key) {\n",
              "          const element = document.querySelector('#df-c87aeb57-5cbe-40d5-8c28-1b8cdf10583d');\n",
              "          const dataTable =\n",
              "            await google.colab.kernel.invokeFunction('convertToInteractive',\n",
              "                                                     [key], {});\n",
              "          if (!dataTable) return;\n",
              "\n",
              "          const docLinkHtml = 'Like what you see? Visit the ' +\n",
              "            '<a target=\"_blank\" href=https://colab.research.google.com/notebooks/data_table.ipynb>data table notebook</a>'\n",
              "            + ' to learn more about interactive tables.';\n",
              "          element.innerHTML = '';\n",
              "          dataTable['output_type'] = 'display_data';\n",
              "          await google.colab.output.renderOutput(dataTable, element);\n",
              "          const docLink = document.createElement('div');\n",
              "          docLink.innerHTML = docLinkHtml;\n",
              "          element.appendChild(docLink);\n",
              "        }\n",
              "      </script>\n",
              "    </div>\n",
              "  </div>\n",
              "  "
            ]
          },
          "metadata": {},
          "execution_count": 114
        }
      ],
      "source": [
        "data.head()"
      ]
    },
    {
      "cell_type": "markdown",
      "id": "b3e4dbe7",
      "metadata": {
        "id": "b3e4dbe7"
      },
      "source": [
        "## Modeling and Parameter Optimization"
      ]
    },
    {
      "cell_type": "code",
      "execution_count": null,
      "id": "91b32aff",
      "metadata": {
        "id": "91b32aff"
      },
      "outputs": [],
      "source": [
        "###Checking the Scores\n",
        "\n",
        "def check_scores(model, x_train, x_test):\n",
        "  # Making predictions on train and test data\n",
        "\n",
        "  train_class_preds = model.predict(x_train)\n",
        "  test_class_preds = model.predict(x_test)\n",
        "\n",
        "\n",
        "  # Get the probabilities on train and test\n",
        "  train_preds = model.predict_proba(x_train)[:,1]\n",
        "  test_preds = model.predict_proba(x_test)[:,1]\n",
        "\n",
        "\n",
        "  # Calculating accuracy on train and test\n",
        "  train_accuracy = accuracy_score(y_train,train_class_preds)\n",
        "  test_accuracy = accuracy_score(y_test,test_class_preds)\n",
        "\n",
        "  print(\"The accuracy on train dataset is\", train_accuracy)\n",
        "  print(\"The accuracy on test dataset is\", test_accuracy)\n",
        "  print()\n",
        "    \n",
        "   # Get the confusion matrices for train and test\n",
        "  train_cm = confusion_matrix(y_train,train_class_preds)\n",
        "  test_cm = confusion_matrix(y_test,test_class_preds )\n",
        "\n",
        "  print('Train confusion matrix:')\n",
        "  print( train_cm)\n",
        "  print()\n",
        "  print('Test confusion matrix:')\n",
        "  print(test_cm)\n",
        "  print()\n",
        "\n",
        "  # Get the roc_auc score for train and test dataset\n",
        "  train_auc = roc_auc_score(y_train,train_preds)\n",
        "  test_auc = roc_auc_score(y_test,test_preds)\n",
        "\n",
        "  print('AUC on train data:', train_auc)\n",
        "  print('AUC on test data:', test_auc)\n",
        "  \n",
        "  # Fscore, precision and recall on test data\n",
        "  f1 = f1_score(y_test, test_class_preds)\n",
        "  precision = precision_score(y_test, test_class_preds)\n",
        "  recall = recall_score(y_test, test_class_preds)\n",
        "  print(\"F1 score is:\",f1 )\n",
        "  print(\"Precision is:\",precision)\n",
        "  print(\"Recall is:\", recall)\n",
        "\n",
        "\n",
        "  return model, train_auc, test_auc, train_accuracy, test_accuracy,f1, precision,recall"
      ]
    },
    {
      "cell_type": "code",
      "execution_count": null,
      "id": "d1871187",
      "metadata": {
        "id": "d1871187"
      },
      "outputs": [],
      "source": [
        "CV = KFold(n_splits=10, random_state=0, shuffle=True)"
      ]
    },
    {
      "cell_type": "markdown",
      "id": "6ebf3baf",
      "metadata": {
        "id": "6ebf3baf"
      },
      "source": [
        "### Model 1 : LR"
      ]
    },
    {
      "cell_type": "code",
      "execution_count": null,
      "id": "51b6b1b0",
      "metadata": {
        "colab": {
          "base_uri": "https://localhost:8080/"
        },
        "id": "51b6b1b0",
        "outputId": "63d82ef6-46a3-482e-aff1-4d9fdc4118a6"
      },
      "outputs": [
        {
          "output_type": "stream",
          "name": "stdout",
          "text": [
            "Best parameters: LogisticRegression(C=5, class_weight='balanced', random_state=42)\n"
          ]
        }
      ],
      "source": [
        "LR_S = LogisticRegression(random_state = 42)\n",
        "params_LR = {'C': list(np.arange(1,12)), 'penalty': ['l1', 'l2', 'elasticnet', 'none'] , 'class_weight': ['balanced','None']}\n",
        "randomsearch= RandomizedSearchCV(LR_S, param_distributions=params_LR, cv=5, n_jobs=-1, n_iter=20, random_state=42, return_train_score=True)\n",
        "randomsearch.fit(x_train, y_train)\n",
        "print('Best parameters:',randomsearch.best_estimator_)"
      ]
    },
    {
      "cell_type": "code",
      "execution_count": null,
      "id": "5b6476de",
      "metadata": {
        "colab": {
          "base_uri": "https://localhost:8080/"
        },
        "id": "5b6476de",
        "outputId": "9628d139-46c4-4ef3-e044-a86fbedd5c47"
      },
      "outputs": [
        {
          "output_type": "execute_result",
          "data": {
            "text/plain": [
              "LogisticRegression(C=6, class_weight='None', random_state=42)"
            ]
          },
          "metadata": {},
          "execution_count": 118
        }
      ],
      "source": [
        "lr_optimal_model= LogisticRegression(random_state = 42, penalty= 'l2', class_weight= 'None', C=6)\n",
        "lr_optimal_model.fit(x_train, y_train)"
      ]
    },
    {
      "cell_type": "markdown",
      "id": "366a4ccc",
      "metadata": {
        "id": "366a4ccc"
      },
      "source": [
        "#### Getting Score"
      ]
    },
    {
      "cell_type": "code",
      "execution_count": null,
      "id": "4a893ac8",
      "metadata": {
        "scrolled": true,
        "colab": {
          "base_uri": "https://localhost:8080/"
        },
        "id": "4a893ac8",
        "outputId": "57deb661-43e7-4b00-d8fa-64592612b5ed"
      },
      "outputs": [
        {
          "output_type": "stream",
          "name": "stdout",
          "text": [
            "The accuracy on train dataset is 0.7621065375302664\n",
            "The accuracy on test dataset is 0.7570183930300097\n",
            "\n",
            "Train confusion matrix:\n",
            "[[3047 1079]\n",
            " [ 886 3248]]\n",
            "\n",
            "Test confusion matrix:\n",
            "[[772 265]\n",
            " [237 792]]\n",
            "\n",
            "AUC on train data: 0.8519513001319584\n",
            "AUC on test data: 0.837766019756849\n",
            "F1 score is: 0.7593480345158198\n",
            "Precision is: 0.7492904446546831\n",
            "Recall is: 0.7696793002915452\n"
          ]
        }
      ],
      "source": [
        "lr_model, lr_train_auc, lr_test_auc, lr_train_accuracy, lr_test_accuracy,lr_f1, lr_precision, lr_recall= check_scores(lr_optimal_model,x_train,x_test)"
      ]
    },
    {
      "cell_type": "markdown",
      "id": "6a9e60dc",
      "metadata": {
        "id": "6a9e60dc"
      },
      "source": [
        "### Model 2: Random Forest"
      ]
    },
    {
      "cell_type": "code",
      "execution_count": null,
      "id": "ba659023",
      "metadata": {
        "colab": {
          "base_uri": "https://localhost:8080/"
        },
        "id": "ba659023",
        "outputId": "ccd55de7-8e05-40c0-9272-269a602c7029"
      },
      "outputs": [
        {
          "output_type": "stream",
          "name": "stdout",
          "text": [
            "Best parameters: RandomForestClassifier(n_estimators=66, random_state=42)\n"
          ]
        }
      ],
      "source": [
        "RF_S = RandomForestClassifier(random_state = 42)\n",
        "params_RF = {'n_estimators': list(range(50,100)), 'min_samples_leaf': list(range(1,5)), 'min_samples_split': list(range(1,5))}\n",
        "grid_RF = RandomizedSearchCV(RF_S, param_distributions=params_RF, cv=5, n_jobs=-1, n_iter=20, random_state=42, return_train_score=True)\n",
        "grid_RF.fit(x_train, y_train)\n",
        "print('Best parameters:', grid_RF.best_estimator_)"
      ]
    },
    {
      "cell_type": "code",
      "execution_count": null,
      "id": "d69998b1",
      "metadata": {
        "colab": {
          "base_uri": "https://localhost:8080/"
        },
        "id": "d69998b1",
        "outputId": "f1454f9d-e655-43e4-a3a8-c1ff36be00f3"
      },
      "outputs": [
        {
          "output_type": "execute_result",
          "data": {
            "text/plain": [
              "RandomForestClassifier(min_samples_leaf=2, min_samples_split=4, n_estimators=95,\n",
              "                       random_state=42)"
            ]
          },
          "metadata": {},
          "execution_count": 121
        }
      ],
      "source": [
        "rf_optimal_model= RandomForestClassifier(min_samples_leaf=2, min_samples_split=4, n_estimators=95,random_state=42)\n",
        "rf_optimal_model.fit(x_train, y_train)"
      ]
    },
    {
      "cell_type": "markdown",
      "id": "1d330443",
      "metadata": {
        "id": "1d330443"
      },
      "source": [
        "#### Getting Score"
      ]
    },
    {
      "cell_type": "code",
      "execution_count": null,
      "id": "0c108ab8",
      "metadata": {
        "colab": {
          "base_uri": "https://localhost:8080/"
        },
        "id": "0c108ab8",
        "outputId": "f7a9086b-180d-454c-c043-e462a0a37ff4"
      },
      "outputs": [
        {
          "output_type": "stream",
          "name": "stdout",
          "text": [
            "The accuracy on train dataset is 0.9606537530266344\n",
            "The accuracy on test dataset is 0.8209099709583737\n",
            "\n",
            "Train confusion matrix:\n",
            "[[3914  212]\n",
            " [ 113 4021]]\n",
            "\n",
            "Test confusion matrix:\n",
            "[[825 212]\n",
            " [158 871]]\n",
            "\n",
            "AUC on train data: 0.9953396235795472\n",
            "AUC on test data: 0.9028927730342724\n",
            "F1 score is: 0.8248106060606061\n",
            "Precision is: 0.804247460757156\n",
            "Recall is: 0.8464528668610302\n"
          ]
        }
      ],
      "source": [
        "rf_model, rf_train_auc, rf_test_auc, rf_train_accuracy, rf_test_accuracy,rf_f1, rf_precision,rf_recall= check_scores(rf_optimal_model,x_train,x_test)"
      ]
    },
    {
      "cell_type": "markdown",
      "id": "a57d4f3d",
      "metadata": {
        "id": "a57d4f3d"
      },
      "source": [
        "### Model 3: KNN"
      ]
    },
    {
      "cell_type": "code",
      "execution_count": null,
      "id": "3a3801b6",
      "metadata": {
        "colab": {
          "base_uri": "https://localhost:8080/"
        },
        "id": "3a3801b6",
        "outputId": "6f7f4ef6-8751-4d07-82cb-cef883d2d710"
      },
      "outputs": [
        {
          "output_type": "stream",
          "name": "stdout",
          "text": [
            "Best parameters: KNeighborsClassifier(n_neighbors=1)\n"
          ]
        }
      ],
      "source": [
        "KNN_S = KNeighborsClassifier()\n",
        "params_KNN = {'n_neighbors': list(range(1,20))}\n",
        "grid_KNN = RandomizedSearchCV(KNN_S, param_distributions=params_KNN, cv=5, n_jobs=-1, n_iter=20, random_state=42, return_train_score=True)\n",
        "grid_KNN.fit(x_train, y_train)\n",
        "print('Best parameters:', grid_KNN.best_estimator_)"
      ]
    },
    {
      "cell_type": "code",
      "execution_count": null,
      "id": "be501f9b",
      "metadata": {
        "colab": {
          "base_uri": "https://localhost:8080/"
        },
        "id": "be501f9b",
        "outputId": "58568b7e-b349-4b32-97e1-ba94133dd43c"
      },
      "outputs": [
        {
          "output_type": "execute_result",
          "data": {
            "text/plain": [
              "KNeighborsClassifier(n_neighbors=1)"
            ]
          },
          "metadata": {},
          "execution_count": 124
        }
      ],
      "source": [
        "knn_optimal_model=KNeighborsClassifier(n_neighbors=1)\n",
        "knn_optimal_model.fit(x_train,y_train)"
      ]
    },
    {
      "cell_type": "code",
      "execution_count": null,
      "id": "8512daed",
      "metadata": {
        "colab": {
          "base_uri": "https://localhost:8080/"
        },
        "id": "8512daed",
        "outputId": "9463c493-4b30-487b-f88d-6ed3f93ae009"
      },
      "outputs": [
        {
          "output_type": "stream",
          "name": "stdout",
          "text": [
            "The accuracy on train dataset is 0.998910411622276\n",
            "The accuracy on test dataset is 0.7860600193610843\n",
            "\n",
            "Train confusion matrix:\n",
            "[[4120    6]\n",
            " [   3 4131]]\n",
            "\n",
            "Test confusion matrix:\n",
            "[[763 274]\n",
            " [168 861]]\n",
            "\n",
            "AUC on train data: 0.9989100588360688\n",
            "AUC on test data: 0.7862554858008778\n",
            "F1 score is: 0.7957486136783734\n",
            "Precision is: 0.758590308370044\n",
            "Recall is: 0.8367346938775511\n"
          ]
        }
      ],
      "source": [
        "knn_model, knn_train_auc, knn_test_auc, knn_train_accuracy, knn_test_accuracy,knn_f1, knn_precision,knn_recall= check_scores(knn_optimal_model,x_train,x_test)"
      ]
    },
    {
      "cell_type": "markdown",
      "id": "6f3d9f74",
      "metadata": {
        "id": "6f3d9f74"
      },
      "source": [
        "### Model 4: Decision Tree"
      ]
    },
    {
      "cell_type": "code",
      "execution_count": null,
      "id": "ad65fbdc",
      "metadata": {
        "colab": {
          "base_uri": "https://localhost:8080/"
        },
        "id": "ad65fbdc",
        "outputId": "6a363912-f77e-4cd2-e93a-2f97e1cc010a"
      },
      "outputs": [
        {
          "output_type": "stream",
          "name": "stdout",
          "text": [
            "Best parameters: DecisionTreeClassifier(min_samples_leaf=4, random_state=42)\n"
          ]
        }
      ],
      "source": [
        "DT_S = DecisionTreeClassifier(random_state=42)\n",
        "params_DT = {'min_samples_leaf': list(range(1,6)), 'min_samples_split': list(range(1,6))}\n",
        "grid_DT = RandomizedSearchCV(DT_S, param_distributions=params_DT, cv=5, n_jobs=-1, n_iter=20, random_state=42, return_train_score=True)\n",
        "grid_DT.fit(x_train, y_train)\n",
        "print('Best parameters:', grid_DT.best_estimator_)"
      ]
    },
    {
      "cell_type": "code",
      "execution_count": null,
      "id": "d0879345",
      "metadata": {
        "colab": {
          "base_uri": "https://localhost:8080/"
        },
        "id": "d0879345",
        "outputId": "c158760d-ea40-485d-aadb-8684ed0d1b9b"
      },
      "outputs": [
        {
          "output_type": "execute_result",
          "data": {
            "text/plain": [
              "DecisionTreeClassifier(min_samples_leaf=4, random_state=42)"
            ]
          },
          "metadata": {},
          "execution_count": 127
        }
      ],
      "source": [
        "DT_optimal_model= DecisionTreeClassifier(min_samples_leaf=4, random_state=42)\n",
        "DT_optimal_model.fit(x_train,y_train)"
      ]
    },
    {
      "cell_type": "markdown",
      "id": "adb8d990",
      "metadata": {
        "id": "adb8d990"
      },
      "source": [
        "#### Getiing Score"
      ]
    },
    {
      "cell_type": "code",
      "execution_count": null,
      "id": "1d05d7c4",
      "metadata": {
        "colab": {
          "base_uri": "https://localhost:8080/"
        },
        "id": "1d05d7c4",
        "outputId": "83723c50-8f04-4c96-a16c-0c4bd6cd5aa7"
      },
      "outputs": [
        {
          "output_type": "stream",
          "name": "stdout",
          "text": [
            "The accuracy on train dataset is 0.912590799031477\n",
            "The accuracy on test dataset is 0.7647628267182962\n",
            "\n",
            "Train confusion matrix:\n",
            "[[3840  286]\n",
            " [ 436 3698]]\n",
            "\n",
            "Test confusion matrix:\n",
            "[[810 227]\n",
            " [259 770]]\n",
            "\n",
            "AUC on train data: 0.9803787139550224\n",
            "AUC on test data: 0.8248957662690369\n",
            "F1 score is: 0.7601184600197434\n",
            "Precision is: 0.7723169508525577\n",
            "Recall is: 0.7482993197278912\n"
          ]
        }
      ],
      "source": [
        "DT_model, DT_train_auc, DT_test_auc, DT_train_accuracy, DT_test_accuracy,DT_f1, DT_precision,DT_recall= check_scores(DT_optimal_model,x_train,x_test)"
      ]
    },
    {
      "cell_type": "markdown",
      "id": "de6d073b",
      "metadata": {
        "id": "de6d073b"
      },
      "source": [
        "### Model 5:Max Voting Classifier Model"
      ]
    },
    {
      "cell_type": "code",
      "execution_count": null,
      "id": "8647e475",
      "metadata": {
        "colab": {
          "base_uri": "https://localhost:8080/"
        },
        "id": "8647e475",
        "outputId": "da5067a5-5112-43cb-df50-4cb2a12ad7bf"
      },
      "outputs": [
        {
          "output_type": "execute_result",
          "data": {
            "text/plain": [
              "VotingClassifier(estimators=[('logistic',\n",
              "                              LogisticRegression(C=6, class_weight='None',\n",
              "                                                 random_state=42)),\n",
              "                             ('randomforest',\n",
              "                              RandomForestClassifier(min_samples_leaf=2,\n",
              "                                                     min_samples_split=4,\n",
              "                                                     n_estimators=95,\n",
              "                                                     random_state=42)),\n",
              "                             ('KNN', KNeighborsClassifier(n_neighbors=1)),\n",
              "                             ('DT',\n",
              "                              DecisionTreeClassifier(min_samples_leaf=4,\n",
              "                                                     random_state=42))],\n",
              "                 voting='soft')"
            ]
          },
          "metadata": {},
          "execution_count": 129
        }
      ],
      "source": [
        "# Appending all the models to estimators list\n",
        "estimators = []\n",
        "\n",
        "estimators.append(('logistic', lr_optimal_model))\n",
        "estimators.append(('randomforest', rf_optimal_model))\n",
        "estimators.append(('KNN', knn_optimal_model))\n",
        "estimators.append(('DT', DT_optimal_model))\n",
        "\n",
        "# create the voting model\n",
        "voting_model = VotingClassifier(estimators, voting='soft')\n",
        "\n",
        "voting_model.fit(x_train, y_train)"
      ]
    },
    {
      "cell_type": "markdown",
      "id": "ee9dcffe",
      "metadata": {
        "id": "ee9dcffe"
      },
      "source": [
        "#### Getting Score"
      ]
    },
    {
      "cell_type": "code",
      "execution_count": null,
      "id": "0d0de977",
      "metadata": {
        "colab": {
          "base_uri": "https://localhost:8080/"
        },
        "id": "0d0de977",
        "outputId": "61ccd710-5a1e-4c88-cd9e-30a7b6d2552e"
      },
      "outputs": [
        {
          "output_type": "stream",
          "name": "stdout",
          "text": [
            "The accuracy on train dataset is 0.9869249394673123\n",
            "The accuracy on test dataset is 0.8180058083252663\n",
            "\n",
            "Train confusion matrix:\n",
            "[[4060   66]\n",
            " [  42 4092]]\n",
            "\n",
            "Test confusion matrix:\n",
            "[[809 228]\n",
            " [148 881]]\n",
            "\n",
            "AUC on train data: 0.9992266758688163\n",
            "AUC on test data: 0.8971696406899996\n",
            "F1 score is: 0.8241347053320861\n",
            "Precision is: 0.7944093778178539\n",
            "Recall is: 0.8561710398445093\n"
          ]
        }
      ],
      "source": [
        "#Getting all the scores and errors\n",
        "voting_model, voting_train_auc, voting_test_auc, voting_train_accuracy, voting_test_accuracy, voting_f1, voting_precision, voting_recall=check_scores(voting_model,x_train,x_test)"
      ]
    },
    {
      "cell_type": "markdown",
      "id": "fe2c9f28",
      "metadata": {
        "id": "fe2c9f28"
      },
      "source": [
        "## Feature Importance"
      ]
    },
    {
      "cell_type": "markdown",
      "id": "6a9cd828",
      "metadata": {
        "id": "6a9cd828"
      },
      "source": [
        "What features contribute more to predict the target (Churn)? let's find out how useful they are at predicting the target variable.\n",
        "\n",
        "Random Forest algorithm offer importance scores based on the reduction in the criterion used to select split points, like Gini or entropy."
      ]
    },
    {
      "cell_type": "code",
      "execution_count": null,
      "id": "7d968746",
      "metadata": {
        "colab": {
          "base_uri": "https://localhost:8080/",
          "height": 645
        },
        "id": "7d968746",
        "outputId": "42fd1d92-482b-40d6-9a8f-5ee03bd7c736"
      },
      "outputs": [
        {
          "output_type": "execute_result",
          "data": {
            "text/plain": [
              "<pandas.io.formats.style.Styler at 0x7f9d3f5db510>"
            ],
            "text/html": [
              "<style type=\"text/css\">\n",
              "#T_56481_row0_col1 {\n",
              "  background-color: #f7fbff;\n",
              "  color: #000000;\n",
              "}\n",
              "#T_56481_row1_col1 {\n",
              "  background-color: #f5f9fe;\n",
              "  color: #000000;\n",
              "}\n",
              "#T_56481_row2_col1 {\n",
              "  background-color: #f2f8fd;\n",
              "  color: #000000;\n",
              "}\n",
              "#T_56481_row3_col1 {\n",
              "  background-color: #eef5fc;\n",
              "  color: #000000;\n",
              "}\n",
              "#T_56481_row4_col1 {\n",
              "  background-color: #ecf4fb;\n",
              "  color: #000000;\n",
              "}\n",
              "#T_56481_row5_col1 {\n",
              "  background-color: #eaf3fb;\n",
              "  color: #000000;\n",
              "}\n",
              "#T_56481_row6_col1 {\n",
              "  background-color: #e8f1fa;\n",
              "  color: #000000;\n",
              "}\n",
              "#T_56481_row7_col1 {\n",
              "  background-color: #e4eff9;\n",
              "  color: #000000;\n",
              "}\n",
              "#T_56481_row8_col1 {\n",
              "  background-color: #e2edf8;\n",
              "  color: #000000;\n",
              "}\n",
              "#T_56481_row9_col1 {\n",
              "  background-color: #ddeaf7;\n",
              "  color: #000000;\n",
              "}\n",
              "#T_56481_row10_col1 {\n",
              "  background-color: #dceaf6;\n",
              "  color: #000000;\n",
              "}\n",
              "#T_56481_row11_col1 {\n",
              "  background-color: #dbe9f6;\n",
              "  color: #000000;\n",
              "}\n",
              "#T_56481_row12_col1 {\n",
              "  background-color: #d5e5f4;\n",
              "  color: #000000;\n",
              "}\n",
              "#T_56481_row13_col1 {\n",
              "  background-color: #d4e4f4;\n",
              "  color: #000000;\n",
              "}\n",
              "#T_56481_row14_col1 {\n",
              "  background-color: #bed8ec;\n",
              "  color: #000000;\n",
              "}\n",
              "#T_56481_row15_col1 {\n",
              "  background-color: #3b8bc2;\n",
              "  color: #f1f1f1;\n",
              "}\n",
              "#T_56481_row16_col1 {\n",
              "  background-color: #1c6ab0;\n",
              "  color: #f1f1f1;\n",
              "}\n",
              "#T_56481_row17_col1 {\n",
              "  background-color: #083c7d;\n",
              "  color: #f1f1f1;\n",
              "}\n",
              "#T_56481_row18_col1 {\n",
              "  background-color: #08306b;\n",
              "  color: #f1f1f1;\n",
              "}\n",
              "</style>\n",
              "<table id=\"T_56481_\" class=\"dataframe\">\n",
              "  <thead>\n",
              "    <tr>\n",
              "      <th class=\"blank level0\" >&nbsp;</th>\n",
              "      <th class=\"col_heading level0 col0\" >Features</th>\n",
              "      <th class=\"col_heading level0 col1\" >Feature Importance</th>\n",
              "    </tr>\n",
              "  </thead>\n",
              "  <tbody>\n",
              "    <tr>\n",
              "      <th id=\"T_56481_level0_row0\" class=\"row_heading level0 row0\" >5</th>\n",
              "      <td id=\"T_56481_row0_col0\" class=\"data row0 col0\" >PhoneService</td>\n",
              "      <td id=\"T_56481_row0_col1\" class=\"data row0 col1\" >0.009773</td>\n",
              "    </tr>\n",
              "    <tr>\n",
              "      <th id=\"T_56481_level0_row1\" class=\"row_heading level0 row1\" >1</th>\n",
              "      <td id=\"T_56481_row1_col0\" class=\"data row1 col0\" >SeniorCitizen</td>\n",
              "      <td id=\"T_56481_row1_col1\" class=\"data row1 col1\" >0.011794</td>\n",
              "    </tr>\n",
              "    <tr>\n",
              "      <th id=\"T_56481_level0_row2\" class=\"row_heading level0 row2\" >3</th>\n",
              "      <td id=\"T_56481_row2_col0\" class=\"data row2 col0\" >Dependents</td>\n",
              "      <td id=\"T_56481_row2_col1\" class=\"data row2 col1\" >0.014187</td>\n",
              "    </tr>\n",
              "    <tr>\n",
              "      <th id=\"T_56481_level0_row3\" class=\"row_heading level0 row3\" >15</th>\n",
              "      <td id=\"T_56481_row3_col0\" class=\"data row3 col0\" >PaperlessBilling</td>\n",
              "      <td id=\"T_56481_row3_col1\" class=\"data row3 col1\" >0.017084</td>\n",
              "    </tr>\n",
              "    <tr>\n",
              "      <th id=\"T_56481_level0_row4\" class=\"row_heading level0 row4\" >2</th>\n",
              "      <td id=\"T_56481_row4_col0\" class=\"data row4 col0\" >Partner</td>\n",
              "      <td id=\"T_56481_row4_col1\" class=\"data row4 col1\" >0.019027</td>\n",
              "    </tr>\n",
              "    <tr>\n",
              "      <th id=\"T_56481_level0_row5\" class=\"row_heading level0 row5\" >6</th>\n",
              "      <td id=\"T_56481_row5_col0\" class=\"data row5 col0\" >MultipleLines</td>\n",
              "      <td id=\"T_56481_row5_col1\" class=\"data row5 col1\" >0.020705</td>\n",
              "    </tr>\n",
              "    <tr>\n",
              "      <th id=\"T_56481_level0_row6\" class=\"row_heading level0 row6\" >10</th>\n",
              "      <td id=\"T_56481_row6_col0\" class=\"data row6 col0\" >DeviceProtection</td>\n",
              "      <td id=\"T_56481_row6_col1\" class=\"data row6 col1\" >0.022400</td>\n",
              "    </tr>\n",
              "    <tr>\n",
              "      <th id=\"T_56481_level0_row7\" class=\"row_heading level0 row7\" >9</th>\n",
              "      <td id=\"T_56481_row7_col0\" class=\"data row7 col0\" >OnlineBackup</td>\n",
              "      <td id=\"T_56481_row7_col1\" class=\"data row7 col1\" >0.025742</td>\n",
              "    </tr>\n",
              "    <tr>\n",
              "      <th id=\"T_56481_level0_row8\" class=\"row_heading level0 row8\" >0</th>\n",
              "      <td id=\"T_56481_row8_col0\" class=\"data row8 col0\" >gender</td>\n",
              "      <td id=\"T_56481_row8_col1\" class=\"data row8 col1\" >0.027877</td>\n",
              "    </tr>\n",
              "    <tr>\n",
              "      <th id=\"T_56481_level0_row9\" class=\"row_heading level0 row9\" >12</th>\n",
              "      <td id=\"T_56481_row9_col0\" class=\"data row9 col0\" >StreamingTV</td>\n",
              "      <td id=\"T_56481_row9_col1\" class=\"data row9 col1\" >0.031583</td>\n",
              "    </tr>\n",
              "    <tr>\n",
              "      <th id=\"T_56481_level0_row10\" class=\"row_heading level0 row10\" >13</th>\n",
              "      <td id=\"T_56481_row10_col0\" class=\"data row10 col0\" >StreamingMovies</td>\n",
              "      <td id=\"T_56481_row10_col1\" class=\"data row10 col1\" >0.032140</td>\n",
              "    </tr>\n",
              "    <tr>\n",
              "      <th id=\"T_56481_level0_row11\" class=\"row_heading level0 row11\" >8</th>\n",
              "      <td id=\"T_56481_row11_col0\" class=\"data row11 col0\" >OnlineSecurity</td>\n",
              "      <td id=\"T_56481_row11_col1\" class=\"data row11 col1\" >0.033264</td>\n",
              "    </tr>\n",
              "    <tr>\n",
              "      <th id=\"T_56481_level0_row12\" class=\"row_heading level0 row12\" >11</th>\n",
              "      <td id=\"T_56481_row12_col0\" class=\"data row12 col0\" >TechSupport</td>\n",
              "      <td id=\"T_56481_row12_col1\" class=\"data row12 col1\" >0.038499</td>\n",
              "    </tr>\n",
              "    <tr>\n",
              "      <th id=\"T_56481_level0_row13\" class=\"row_heading level0 row13\" >16</th>\n",
              "      <td id=\"T_56481_row13_col0\" class=\"data row13 col0\" >PaymentMethod</td>\n",
              "      <td id=\"T_56481_row13_col1\" class=\"data row13 col1\" >0.039589</td>\n",
              "    </tr>\n",
              "    <tr>\n",
              "      <th id=\"T_56481_level0_row14\" class=\"row_heading level0 row14\" >7</th>\n",
              "      <td id=\"T_56481_row14_col0\" class=\"data row14 col0\" >InternetService</td>\n",
              "      <td id=\"T_56481_row14_col1\" class=\"data row14 col1\" >0.055639</td>\n",
              "    </tr>\n",
              "    <tr>\n",
              "      <th id=\"T_56481_level0_row15\" class=\"row_heading level0 row15\" >14</th>\n",
              "      <td id=\"T_56481_row15_col0\" class=\"data row15 col0\" >Contract</td>\n",
              "      <td id=\"T_56481_row15_col1\" class=\"data row15 col1\" >0.117993</td>\n",
              "    </tr>\n",
              "    <tr>\n",
              "      <th id=\"T_56481_level0_row16\" class=\"row_heading level0 row16\" >17</th>\n",
              "      <td id=\"T_56481_row16_col0\" class=\"data row16 col0\" >MonthlyCharges</td>\n",
              "      <td id=\"T_56481_row16_col1\" class=\"data row16 col1\" >0.138818</td>\n",
              "    </tr>\n",
              "    <tr>\n",
              "      <th id=\"T_56481_level0_row17\" class=\"row_heading level0 row17\" >18</th>\n",
              "      <td id=\"T_56481_row17_col0\" class=\"data row17 col0\" >TotalCharges</td>\n",
              "      <td id=\"T_56481_row17_col1\" class=\"data row17 col1\" >0.167852</td>\n",
              "    </tr>\n",
              "    <tr>\n",
              "      <th id=\"T_56481_level0_row18\" class=\"row_heading level0 row18\" >4</th>\n",
              "      <td id=\"T_56481_row18_col0\" class=\"data row18 col0\" >tenure</td>\n",
              "      <td id=\"T_56481_row18_col1\" class=\"data row18 col1\" >0.176036</td>\n",
              "    </tr>\n",
              "  </tbody>\n",
              "</table>\n"
            ]
          },
          "metadata": {},
          "execution_count": 131
        }
      ],
      "source": [
        "d = {'Features': x_train.columns, 'Feature Importance': rf_optimal_model.feature_importances_}\n",
        "df = pd.DataFrame(d)\n",
        "df_sorted = df.sort_values(by='Feature Importance', ascending = True)\n",
        "df_sorted\n",
        "df_sorted.style.background_gradient(cmap='Blues')"
      ]
    },
    {
      "cell_type": "code",
      "execution_count": null,
      "id": "fe9c9636",
      "metadata": {
        "colab": {
          "base_uri": "https://localhost:8080/",
          "height": 592
        },
        "id": "fe9c9636",
        "outputId": "dc2f2106-82dd-4949-d84f-b0f4bb3caf50"
      },
      "outputs": [
        {
          "output_type": "display_data",
          "data": {
            "text/plain": [
              "<Figure size 1080x720 with 1 Axes>"
            ],
            "image/png": "[encoded data removed]"
          },
          "metadata": {
            "needs_background": "light"
          }
        }
      ],
      "source": [
        "fig = plt.figure(figsize =(15, 10))\n",
        "Feature= df['Features']\n",
        "Feature_Importance= df['Feature Importance']\n",
        "plt.barh(Feature,Feature_Importance)\n",
        " \n",
        "# Show Plot\n",
        "plt.show()"
      ]
    },
    {
      "cell_type": "markdown",
      "id": "f842625d",
      "metadata": {
        "id": "f842625d"
      },
      "source": [
        "## Result"
      ]
    },
    {
      "cell_type": "code",
      "execution_count": null,
      "id": "92839de2",
      "metadata": {
        "scrolled": true,
        "id": "92839de2"
      },
      "outputs": [],
      "source": [
        " #Making a dataframe of all the scores for every model\n",
        "scores_ = [(\"Random Forest\", rf_train_accuracy, rf_test_accuracy,rf_test_auc),\n",
        "(\"Decision Tree\",DT_train_accuracy,DT_test_accuracy,DT_test_auc),\n",
        "(\"Logistic Regression\", lr_train_accuracy, lr_test_accuracy,lr_test_auc),\n",
        "('K Nearest Neighbour',knn_train_accuracy,knn_test_accuracy,knn_test_auc),\n",
        "(\"Voting Classifier\", voting_train_accuracy, voting_test_accuracy,voting_test_auc)]\n",
        "Scores_ =pd.DataFrame(data = scores_, columns=['Model Name','Train Accuracy','Test Accuracy','Test Auc Score'])\n",
        "Scores_.set_index('Model Name', inplace = True)\n",
        "\n"
      ]
    },
    {
      "cell_type": "code",
      "execution_count": null,
      "id": "5e762808",
      "metadata": {
        "scrolled": true,
        "colab": {
          "base_uri": "https://localhost:8080/",
          "height": 238
        },
        "id": "5e762808",
        "outputId": "ec5ae741-e2f6-48b9-dd9f-00032cb3af58"
      },
      "outputs": [
        {
          "output_type": "execute_result",
          "data": {
            "text/plain": [
              "<pandas.io.formats.style.Styler at 0x7f9d3f540c90>"
            ],
            "text/html": [
              "<style type=\"text/css\">\n",
              "#T_2f470_row0_col0 {\n",
              "  background-color: #0a703a;\n",
              "  color: #f1f1f1;\n",
              "}\n",
              "#T_2f470_row0_col1, #T_2f470_row0_col2, #T_2f470_row3_col0 {\n",
              "  background-color: #004529;\n",
              "  color: #f1f1f1;\n",
              "}\n",
              "#T_2f470_row1_col0 {\n",
              "  background-color: #3fa85b;\n",
              "  color: #f1f1f1;\n",
              "}\n",
              "#T_2f470_row1_col1 {\n",
              "  background-color: #f7fcba;\n",
              "  color: #000000;\n",
              "}\n",
              "#T_2f470_row1_col2 {\n",
              "  background-color: #bde496;\n",
              "  color: #000000;\n",
              "}\n",
              "#T_2f470_row2_col0, #T_2f470_row2_col1, #T_2f470_row3_col2 {\n",
              "  background-color: #ffffe5;\n",
              "  color: #000000;\n",
              "}\n",
              "#T_2f470_row2_col2 {\n",
              "  background-color: #90d083;\n",
              "  color: #000000;\n",
              "}\n",
              "#T_2f470_row3_col1 {\n",
              "  background-color: #8bce81;\n",
              "  color: #000000;\n",
              "}\n",
              "#T_2f470_row4_col0, #T_2f470_row4_col2 {\n",
              "  background-color: #00522e;\n",
              "  color: #f1f1f1;\n",
              "}\n",
              "#T_2f470_row4_col1 {\n",
              "  background-color: #00512e;\n",
              "  color: #f1f1f1;\n",
              "}\n",
              "</style>\n",
              "<table id=\"T_2f470_\" class=\"dataframe\">\n",
              "  <thead>\n",
              "    <tr>\n",
              "      <th class=\"blank level0\" >&nbsp;</th>\n",
              "      <th class=\"col_heading level0 col0\" >Train Accuracy</th>\n",
              "      <th class=\"col_heading level0 col1\" >Test Accuracy</th>\n",
              "      <th class=\"col_heading level0 col2\" >Test Auc Score</th>\n",
              "    </tr>\n",
              "    <tr>\n",
              "      <th class=\"index_name level0\" >Model Name</th>\n",
              "      <th class=\"blank col0\" >&nbsp;</th>\n",
              "      <th class=\"blank col1\" >&nbsp;</th>\n",
              "      <th class=\"blank col2\" >&nbsp;</th>\n",
              "    </tr>\n",
              "  </thead>\n",
              "  <tbody>\n",
              "    <tr>\n",
              "      <th id=\"T_2f470_level0_row0\" class=\"row_heading level0 row0\" >Random Forest</th>\n",
              "      <td id=\"T_2f470_row0_col0\" class=\"data row0 col0\" >0.960654</td>\n",
              "      <td id=\"T_2f470_row0_col1\" class=\"data row0 col1\" >0.820910</td>\n",
              "      <td id=\"T_2f470_row0_col2\" class=\"data row0 col2\" >0.902893</td>\n",
              "    </tr>\n",
              "    <tr>\n",
              "      <th id=\"T_2f470_level0_row1\" class=\"row_heading level0 row1\" >Decision Tree</th>\n",
              "      <td id=\"T_2f470_row1_col0\" class=\"data row1 col0\" >0.912591</td>\n",
              "      <td id=\"T_2f470_row1_col1\" class=\"data row1 col1\" >0.764763</td>\n",
              "      <td id=\"T_2f470_row1_col2\" class=\"data row1 col2\" >0.824896</td>\n",
              "    </tr>\n",
              "    <tr>\n",
              "      <th id=\"T_2f470_level0_row2\" class=\"row_heading level0 row2\" >Logistic Regression</th>\n",
              "      <td id=\"T_2f470_row2_col0\" class=\"data row2 col0\" >0.762107</td>\n",
              "      <td id=\"T_2f470_row2_col1\" class=\"data row2 col1\" >0.757018</td>\n",
              "      <td id=\"T_2f470_row2_col2\" class=\"data row2 col2\" >0.837766</td>\n",
              "    </tr>\n",
              "    <tr>\n",
              "      <th id=\"T_2f470_level0_row3\" class=\"row_heading level0 row3\" >K Nearest Neighbour</th>\n",
              "      <td id=\"T_2f470_row3_col0\" class=\"data row3 col0\" >0.998910</td>\n",
              "      <td id=\"T_2f470_row3_col1\" class=\"data row3 col1\" >0.786060</td>\n",
              "      <td id=\"T_2f470_row3_col2\" class=\"data row3 col2\" >0.786255</td>\n",
              "    </tr>\n",
              "    <tr>\n",
              "      <th id=\"T_2f470_level0_row4\" class=\"row_heading level0 row4\" >Voting Classifier</th>\n",
              "      <td id=\"T_2f470_row4_col0\" class=\"data row4 col0\" >0.986925</td>\n",
              "      <td id=\"T_2f470_row4_col1\" class=\"data row4 col1\" >0.818006</td>\n",
              "      <td id=\"T_2f470_row4_col2\" class=\"data row4 col2\" >0.897170</td>\n",
              "    </tr>\n",
              "  </tbody>\n",
              "</table>\n"
            ]
          },
          "metadata": {},
          "execution_count": 141
        }
      ],
      "source": [
        "Scores_.style.background_gradient(cmap='YlGn')"
      ]
    },
    {
      "cell_type": "markdown",
      "id": "48316049",
      "metadata": {
        "id": "48316049"
      },
      "source": [
        "##  Conclusion"
      ]
    },
    {
      "cell_type": "markdown",
      "id": "204b8d2c",
      "metadata": {
        "id": "204b8d2c"
      },
      "source": [
        "Here is a summary of our findings:\n",
        "\n",
        "Customers with fiber optic service as home Internet, are more likely to churn.\n",
        "\n",
        "People with Device protection plan can be considered as low risk.\n",
        "\n",
        "Customers who have been with the company longer are on average paying more every month and are less likely to churn.\n",
        "\n",
        "As we see above the Hyperparameter tunning using Randomizedsearch of Random Forest outperforms all the other models in terms of accuracy"
      ]
    },
    {
      "cell_type": "code",
      "execution_count": null,
      "id": "5d394b6e",
      "metadata": {
        "id": "5d394b6e"
      },
      "outputs": [],
      "source": []
    }
  ],
  "metadata": {
    "kernelspec": {
      "display_name": "Python 3 (ipykernel)",
      "language": "python",
      "name": "python3"
    },
    "language_info": {
      "codemirror_mode": {
        "name": "ipython",
        "version": 3
      },
      "file_extension": ".py",
      "mimetype": "text/x-python",
      "name": "python",
      "nbconvert_exporter": "python",
      "pygments_lexer": "ipython3",
      "version": "3.9.7"
    },
    "colab": {
      "provenance": [],
      "collapsed_sections": [
        "d3601b90"
      ]
    }
  },
  "nbformat": 4,
  "nbformat_minor": 5
}